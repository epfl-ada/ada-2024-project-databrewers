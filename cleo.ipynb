{
 "cells": [
  {
   "cell_type": "markdown",
   "id": "af76bab7",
   "metadata": {},
   "source": [
    "# ADA Project - DataBrewers"
   ]
  },
  {
   "cell_type": "markdown",
   "id": "db95e5bf",
   "metadata": {},
   "source": [
    "The aim of this project is to analyze beer preference shifts across seasons and in response to weather changes, events and cultural festivities. This could significantly help professionals (brewers, marketers, etc.) by providing insights into customer preferences. \n",
    "By understanding seasonal trends, brewers can adjust their product offerings to align more closely with consumer demand. \n",
    "Moreover, as a conclusion of our research, we could suggest the best beer that would be the perfect match for each season/festivity, in the form of a time fresco. \n",
    "\n",
    "Our analysis will primarly focus on the reviews published by users based in the United State of America. The reason for this choice is that it is the country were the majority of reviews are done, and it provides us with enough data to conduct our analysis.\n"
   ]
  },
  {
   "cell_type": "markdown",
   "id": "9f46a5ab",
   "metadata": {},
   "source": [
    "For this project, we choose to only use the BeerAdvocate dataset and to discard the RateBeer dataset due to several analytical and practical considerations:\n",
    "1. **The Herding Effect:** As explained in the paper \"When Sheep Shop: Measuring Herding Effects in Product Ratings with Natural Experiments\" from Gael Lederrey and Robert West, initial ratings can influence the following ones. By focusing on a single dataset, we can better control for this effect within a single user community. Including RateBeer might introduce inconsistent herding effects that could skew comparative analyses.\n",
    "2. **Inconsistant Rating Standards:** Both BeerAdvocate and RateBeer communities likely develop their own informal standards for beer ratings. Focusing on a single platform like BeerAdvocate allows dor a more cohesive dataset, with users who rate within the same context, minimizing cross-platform variance.\n",
    "3. **Data Sufficiency:** The BeerAdvocate dataset provides us with enough reviews and data to perform meaningful analysis and draw reliable insights."
   ]
  },
  {
   "cell_type": "code",
   "execution_count": 1,
   "id": "1725d341",
   "metadata": {},
   "outputs": [],
   "source": [
    "import pandas as pd\n",
    "import tarfile\n",
    "import matplotlib.pyplot as plt\n",
    "import seaborn as sns"
   ]
  },
  {
   "cell_type": "code",
   "execution_count": 2,
   "id": "02d805c9",
   "metadata": {},
   "outputs": [
    {
     "name": "stderr",
     "output_type": "stream",
     "text": [
      "/var/folders/kn/xrv1vh8j0k99dnh2mwl662xc0000gn/T/ipykernel_30925/4040577259.py:3: DeprecationWarning: Python 3.14 will, by default, filter extracted tar archives and reject files or modify their metadata. Use the filter argument to control this behavior.\n",
      "  tar.extractall(path='../data')\n"
     ]
    },
    {
     "name": "stdout",
     "output_type": "stream",
     "text": [
      "?rwxrwxrwx gayouf/gayouf   26775015 2017-08-10 17:15:37 ratings.csv \n",
      "?rw-rw-r-- gayouf/gayouf   99396732 2018-03-19 14:13:29 ratings_ba.txt.gz \n",
      "?rw-rw-r-- gayouf/gayouf  133634318 2018-03-19 14:22:54 ratings_rb.txt.gz \n",
      "?rwxrwxrwx gayouf/gayouf     533538 2017-08-08 15:35:54 users_approx.csv \n",
      "?rwxrwxrwx gayouf/gayouf     429785 2017-08-07 14:51:08 users.csv \n",
      "?rwxrwxrwx gayouf/gayouf   14246582 2018-03-19 14:26:49 beers.csv \n",
      "?rwxrwxrwx gayouf/gayouf    1045044 2017-08-02 18:10:05 breweries.csv \n",
      "?rw-rw-r-- gayouf/gayouf   77201217 2018-03-20 21:16:35 ratings_with_text_ba.txt.gz \n",
      "?rw-rw-r-- gayouf/gayouf  133632940 2018-03-20 21:25:56 ratings_with_text_rb.txt.gz \n"
     ]
    }
   ],
   "source": [
    "file_path = 'data/matched_beer_data.tar'\n",
    "with tarfile.open(file_path) as tar:\n",
    "    tar.extractall(path='../data')  \n",
    "    tar.list()"
   ]
  },
  {
   "cell_type": "code",
   "execution_count": 3,
   "id": "7d74d932",
   "metadata": {},
   "outputs": [
    {
     "name": "stderr",
     "output_type": "stream",
     "text": [
      "/var/folders/kn/xrv1vh8j0k99dnh2mwl662xc0000gn/T/ipykernel_30925/2344417770.py:1: DtypeWarning: Columns (0,1,2,3,5,7,8,9,10,11,13,17,18,19,20,22,24,25,26,27,29,31) have mixed types. Specify dtype option on import or set low_memory=False.\n",
      "  ratings_merged = pd.read_csv('../data/ratings.csv')\n",
      "/var/folders/kn/xrv1vh8j0k99dnh2mwl662xc0000gn/T/ipykernel_30925/2344417770.py:6: DtypeWarning: Columns (0,1,2,3,4,5,8,10,11,12,13,15,16,17,18,19,20,23,25,26,27,29,30,31,32) have mixed types. Specify dtype option on import or set low_memory=False.\n",
      "  beers_merged = pd.read_csv('../data/beers.csv')\n"
     ]
    }
   ],
   "source": [
    "ratings_merged = pd.read_csv('../data/ratings.csv')\n",
    "ratings_ba = pd.read_csv('../data/ratings_ba.txt.gz', compression='gzip', delimiter='\\t')\n",
    "ratings_rb = pd.read_csv('../data/ratings_rb.txt.gz', compression='gzip', delimiter='\\t')\n",
    "users_approx = pd.read_csv('../data/users_approx.csv')\n",
    "users_merged = pd.read_csv('../data/users.csv')\n",
    "beers_merged = pd.read_csv('../data/beers.csv')\n",
    "breweries_merged = pd.read_csv('../data/breweries.csv')\n",
    "ratings_with_text_ba = pd.read_csv('../data/ratings_with_text_ba.txt.gz', compression='gzip', delimiter='\\t')\n",
    "ratings_with_text_rb = pd.read_csv('../data/ratings_with_text_rb.txt.gz', compression='gzip', delimiter='\\t')"
   ]
  },
  {
   "cell_type": "code",
   "execution_count": 4,
   "id": "7d1b338c",
   "metadata": {},
   "outputs": [],
   "source": [
    "file_path = 'data/BeerAdvocate'\n",
    "beers = pd.read_csv(file_path + '/beers.csv')\n",
    "breweries = pd.read_csv(file_path + '/breweries.csv')\n",
    "users = pd.read_csv(file_path + '/users.csv')"
   ]
  },
  {
   "cell_type": "code",
   "execution_count": 5,
   "id": "9baf6a6a",
   "metadata": {},
   "outputs": [
    {
     "name": "stdout",
     "output_type": "stream",
     "text": [
      "Number of beers in the dataset:  280823\n",
      "Number of ratings in the dataset:  8393032\n",
      "Number of reviews in the dataset:  2589586\n",
      "Number of ratings made by US users:  7303870\n",
      "Number of reviews made by US users:  2241334\n"
     ]
    }
   ],
   "source": [
    "# We prompt the number of beers in the dataset\n",
    "print(\"Number of beers in the dataset: \", len(beers))\n",
    "\n",
    "# We prompt the numbers of ratings in the dataset using the nbr_ratings column of the beers dataset and summing them\n",
    "print(\"Number of ratings in the dataset: \", beers['nbr_ratings'].sum())\n",
    "\n",
    "# We prompt the number of reviews in the dataset using the nbr_reviews column of the beers dataset and summing them\n",
    "print(\"Number of reviews in the dataset: \", beers['nbr_reviews'].sum())\n",
    "\n",
    "# We only keep users from the US\n",
    "# We discard users whose location is NaN\n",
    "users = users.dropna(subset=['location'])\n",
    "\n",
    "# We prompt the number of ratings made by US users using the nb_ratings column of the users dataset and summing them for users where location is contains United States \n",
    "print(\"Number of ratings made by US users: \", users[users['location'].str.contains('United States')]['nbr_ratings'].sum())\n",
    "\n",
    "# We prompt the number of reviews made by US users using the nb_reviews column of the users dataset and summing them for users where location is contains United States\n",
    "print(\"Number of reviews made by US users: \", users[users['location'].str.contains('United States')]['nbr_reviews'].sum())"
   ]
  }
 ],
 "metadata": {
  "kernelspec": {
   "display_name": "ada",
   "language": "python",
   "name": "python3"
  },
  "language_info": {
   "codemirror_mode": {
    "name": "ipython",
    "version": 3
   },
   "file_extension": ".py",
   "mimetype": "text/x-python",
   "name": "python",
   "nbconvert_exporter": "python",
   "pygments_lexer": "ipython3",
   "version": "3.12.7"
  }
 },
 "nbformat": 4,
 "nbformat_minor": 5
}
