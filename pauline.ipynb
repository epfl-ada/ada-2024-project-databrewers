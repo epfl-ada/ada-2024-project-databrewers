{
 "cells": [
  {
   "metadata": {},
   "cell_type": "markdown",
   "source": "# Matched Beer Data",
   "id": "285e1a8b766c1792"
  },
  {
   "metadata": {},
   "cell_type": "markdown",
   "source": "### Loading",
   "id": "5da782b1e1f47e6"
  },
  {
   "metadata": {
    "ExecuteTime": {
     "end_time": "2024-10-31T10:17:57.580266Z",
     "start_time": "2024-10-31T10:17:57.127074Z"
    }
   },
   "cell_type": "code",
   "source": [
    "import pandas as pd\n",
    "import tarfile\n",
    "import matplotlib.pyplot as plt"
   ],
   "id": "7fe4d16443d58be8",
   "outputs": [],
   "execution_count": 1
  },
  {
   "metadata": {
    "ExecuteTime": {
     "end_time": "2024-10-31T12:33:20.718025Z",
     "start_time": "2024-10-31T12:33:20.208409Z"
    }
   },
   "cell_type": "code",
   "source": [
    "file_path = 'data/matched_beer_data.tar.gz'\n",
    "with tarfile.open(file_path, 'r:gz') as tar:\n",
    "    tar.extractall(path='../data')  \n",
    "    tar.list()"
   ],
   "id": "c2870a36edc99df5",
   "outputs": [
    {
     "name": "stdout",
     "output_type": "stream",
     "text": [
      "?rwxrwxrwx gayouf/gayouf   26775015 2017-08-10 17:15:37 ratings.csv \n",
      "?rw-rw-r-- gayouf/gayouf   99396732 2018-03-19 14:13:29 ratings_ba.txt.gz \n",
      "?rw-rw-r-- gayouf/gayouf  133634318 2018-03-19 14:22:54 ratings_rb.txt.gz \n",
      "?rwxrwxrwx gayouf/gayouf     533538 2017-08-08 15:35:54 users_approx.csv \n",
      "?rwxrwxrwx gayouf/gayouf     429785 2017-08-07 14:51:08 users.csv \n",
      "?rwxrwxrwx gayouf/gayouf   14246582 2018-03-19 14:26:49 beers.csv \n",
      "?rwxrwxrwx gayouf/gayouf    1045044 2017-08-02 18:10:05 breweries.csv \n",
      "?rw-rw-r-- gayouf/gayouf   77201217 2018-03-20 21:16:35 ratings_with_text_ba.txt.gz \n",
      "?rw-rw-r-- gayouf/gayouf  133632940 2018-03-20 21:25:56 ratings_with_text_rb.txt.gz \n"
     ]
    }
   ],
   "execution_count": 35
  },
  {
   "metadata": {
    "ExecuteTime": {
     "end_time": "2024-10-31T12:33:41.303426Z",
     "start_time": "2024-10-31T12:33:22.324992Z"
    }
   },
   "cell_type": "code",
   "source": [
    "ratings_merged = pd.read_csv('../data/ratings.csv')\n",
    "ratings_ba = pd.read_csv('../data/ratings_ba.txt.gz', compression='gzip', delimiter='\\t')\n",
    "ratings_rb = pd.read_csv('../data/ratings_rb.txt.gz', compression='gzip', delimiter='\\t')\n",
    "users_approx = pd.read_csv('../data/users_approx.csv')\n",
    "users_merged = pd.read_csv('../data/users.csv')\n",
    "beers_merged = pd.read_csv('../data/beers.csv')\n",
    "breweries_merged = pd.read_csv('../data/breweries.csv')\n",
    "ratings_with_text_ba = pd.read_csv('../data/ratings_with_text_ba.txt.gz', compression='gzip', delimiter='\\t')\n",
    "ratings_with_text_rb = pd.read_csv('../data/ratings_with_text_rb.txt.gz', compression='gzip', delimiter='\\t')"
   ],
   "id": "1f057a4271f52ef7",
   "outputs": [
    {
     "name": "stderr",
     "output_type": "stream",
     "text": [
      "/var/folders/9b/th5400l94kqcyysbyv63p_bm0000gn/T/ipykernel_64536/1035119176.py:1: DtypeWarning: Columns (0,1,2,3,5,7,8,9,10,11,13,17,18,19,20,22,24,25,26,27,29,31) have mixed types. Specify dtype option on import or set low_memory=False.\n",
      "  ratings_merged = pd.read_csv('../data/ratings.csv')\n",
      "/var/folders/9b/th5400l94kqcyysbyv63p_bm0000gn/T/ipykernel_64536/1035119176.py:6: DtypeWarning: Columns (0,1,2,3,4,5,8,10,11,12,13,15,16,17,18,19,20,23,25,26,27,29,30,31,32) have mixed types. Specify dtype option on import or set low_memory=False.\n",
      "  beers_merged = pd.read_csv('../data/beers.csv')\n"
     ]
    }
   ],
   "execution_count": 36
  },
  {
   "metadata": {},
   "cell_type": "markdown",
   "source": "## Countries analysis",
   "id": "36b92fc1bc4a0f37"
  },
  {
   "metadata": {},
   "cell_type": "markdown",
   "source": "#### For users",
   "id": "b8a355559992a711"
  },
  {
   "metadata": {
    "ExecuteTime": {
     "end_time": "2024-10-31T12:34:10.276554Z",
     "start_time": "2024-10-31T12:34:10.271125Z"
    }
   },
   "cell_type": "code",
   "source": "users_merged.head()",
   "id": "19cc0a6aea7ff637",
   "outputs": [
    {
     "data": {
      "text/plain": [
       "       joined.0                 location.0 nbr_ratings.0 nbr_reviews.0  \\\n",
       "0        joined                   location   nbr_ratings   nbr_reviews   \n",
       "1  1220868000.0                    Germany             6             6   \n",
       "2  1348394400.0    United States, Virginia             1             1   \n",
       "3  1207303200.0  United States, Washington             3             3   \n",
       "4  1322737200.0                    Estonia            11             0   \n",
       "\n",
       "            user_id.0  user_name.0 user_name_lower.0      joined.1  \\\n",
       "0             user_id    user_name   user_name_lower        joined   \n",
       "1     erzengel.248045     Erzengel          erzengel  1224324000.0   \n",
       "2     gendv138.695700     GenDV138          gendv138  1385722800.0   \n",
       "3   nimbleprop.208928   nimbleprop        nimbleprop  1150797600.0   \n",
       "4  visionthing.639993  visionthing       visionthing  1242986400.0   \n",
       "\n",
       "                  location.1 nbr_ratings.1 nbr_reviews.1    user_id.1  \\\n",
       "0                   location   nbr_ratings       user_id    user_name   \n",
       "1                    Germany          8781         83106     Erzengel   \n",
       "2    United States, Virginia          6240        290599     GenDV138   \n",
       "3  United States, Washington          7452         38859   nimbleprop   \n",
       "4                    Estonia          5462         91324  visionthing   \n",
       "\n",
       "       user_name.1  \n",
       "0  user_name_lower  \n",
       "1         erzengel  \n",
       "2         gendv138  \n",
       "3       nimbleprop  \n",
       "4      visionthing  "
      ],
      "text/html": [
       "<div>\n",
       "<style scoped>\n",
       "    .dataframe tbody tr th:only-of-type {\n",
       "        vertical-align: middle;\n",
       "    }\n",
       "\n",
       "    .dataframe tbody tr th {\n",
       "        vertical-align: top;\n",
       "    }\n",
       "\n",
       "    .dataframe thead th {\n",
       "        text-align: right;\n",
       "    }\n",
       "</style>\n",
       "<table border=\"1\" class=\"dataframe\">\n",
       "  <thead>\n",
       "    <tr style=\"text-align: right;\">\n",
       "      <th></th>\n",
       "      <th>joined.0</th>\n",
       "      <th>location.0</th>\n",
       "      <th>nbr_ratings.0</th>\n",
       "      <th>nbr_reviews.0</th>\n",
       "      <th>user_id.0</th>\n",
       "      <th>user_name.0</th>\n",
       "      <th>user_name_lower.0</th>\n",
       "      <th>joined.1</th>\n",
       "      <th>location.1</th>\n",
       "      <th>nbr_ratings.1</th>\n",
       "      <th>nbr_reviews.1</th>\n",
       "      <th>user_id.1</th>\n",
       "      <th>user_name.1</th>\n",
       "    </tr>\n",
       "  </thead>\n",
       "  <tbody>\n",
       "    <tr>\n",
       "      <th>0</th>\n",
       "      <td>joined</td>\n",
       "      <td>location</td>\n",
       "      <td>nbr_ratings</td>\n",
       "      <td>nbr_reviews</td>\n",
       "      <td>user_id</td>\n",
       "      <td>user_name</td>\n",
       "      <td>user_name_lower</td>\n",
       "      <td>joined</td>\n",
       "      <td>location</td>\n",
       "      <td>nbr_ratings</td>\n",
       "      <td>user_id</td>\n",
       "      <td>user_name</td>\n",
       "      <td>user_name_lower</td>\n",
       "    </tr>\n",
       "    <tr>\n",
       "      <th>1</th>\n",
       "      <td>1220868000.0</td>\n",
       "      <td>Germany</td>\n",
       "      <td>6</td>\n",
       "      <td>6</td>\n",
       "      <td>erzengel.248045</td>\n",
       "      <td>Erzengel</td>\n",
       "      <td>erzengel</td>\n",
       "      <td>1224324000.0</td>\n",
       "      <td>Germany</td>\n",
       "      <td>8781</td>\n",
       "      <td>83106</td>\n",
       "      <td>Erzengel</td>\n",
       "      <td>erzengel</td>\n",
       "    </tr>\n",
       "    <tr>\n",
       "      <th>2</th>\n",
       "      <td>1348394400.0</td>\n",
       "      <td>United States, Virginia</td>\n",
       "      <td>1</td>\n",
       "      <td>1</td>\n",
       "      <td>gendv138.695700</td>\n",
       "      <td>GenDV138</td>\n",
       "      <td>gendv138</td>\n",
       "      <td>1385722800.0</td>\n",
       "      <td>United States, Virginia</td>\n",
       "      <td>6240</td>\n",
       "      <td>290599</td>\n",
       "      <td>GenDV138</td>\n",
       "      <td>gendv138</td>\n",
       "    </tr>\n",
       "    <tr>\n",
       "      <th>3</th>\n",
       "      <td>1207303200.0</td>\n",
       "      <td>United States, Washington</td>\n",
       "      <td>3</td>\n",
       "      <td>3</td>\n",
       "      <td>nimbleprop.208928</td>\n",
       "      <td>nimbleprop</td>\n",
       "      <td>nimbleprop</td>\n",
       "      <td>1150797600.0</td>\n",
       "      <td>United States, Washington</td>\n",
       "      <td>7452</td>\n",
       "      <td>38859</td>\n",
       "      <td>nimbleprop</td>\n",
       "      <td>nimbleprop</td>\n",
       "    </tr>\n",
       "    <tr>\n",
       "      <th>4</th>\n",
       "      <td>1322737200.0</td>\n",
       "      <td>Estonia</td>\n",
       "      <td>11</td>\n",
       "      <td>0</td>\n",
       "      <td>visionthing.639993</td>\n",
       "      <td>visionthing</td>\n",
       "      <td>visionthing</td>\n",
       "      <td>1242986400.0</td>\n",
       "      <td>Estonia</td>\n",
       "      <td>5462</td>\n",
       "      <td>91324</td>\n",
       "      <td>visionthing</td>\n",
       "      <td>visionthing</td>\n",
       "    </tr>\n",
       "  </tbody>\n",
       "</table>\n",
       "</div>"
      ]
     },
     "execution_count": 39,
     "metadata": {},
     "output_type": "execute_result"
    }
   ],
   "execution_count": 39
  },
  {
   "metadata": {
    "ExecuteTime": {
     "end_time": "2024-10-31T12:34:02.408163Z",
     "start_time": "2024-10-31T12:34:02.404902Z"
    }
   },
   "cell_type": "code",
   "source": [
    "users_merged = users_merged.rename(columns={\n",
    "    'ba': 'joined.0',\n",
    "    'ba.1': 'location.0',\n",
    "    'ba.2': 'nbr_ratings.0',\n",
    "    'ba.3': 'nbr_reviews.0',\n",
    "    'ba.4': 'user_id.0',\n",
    "    'ba.5': 'user_name.0',\n",
    "    'ba.6': 'user_name_lower.0',\n",
    "    'rb': 'joined.1',\n",
    "    'rb.1': 'location.1',\n",
    "    'rb.2': 'nbr_ratings.1',\n",
    "    'rb.3': 'nbr_reviews.1',\n",
    "    'rb.4': 'user_id.1',\n",
    "    'rb.5': 'user_name.1'\n",
    "})"
   ],
   "id": "e63168c20a02dae7",
   "outputs": [],
   "execution_count": 38
  },
  {
   "metadata": {
    "ExecuteTime": {
     "end_time": "2024-10-31T12:34:48.716334Z",
     "start_time": "2024-10-31T12:34:48.708995Z"
    }
   },
   "cell_type": "code",
   "source": [
    "users_merged = users_merged.drop(index=0).reset_index(drop=True) # remove the first row containing the previous column name\n",
    "users_merged.head()"
   ],
   "id": "2fa3f8f45d970fef",
   "outputs": [
    {
     "data": {
      "text/plain": [
       "       joined.0                 location.0 nbr_ratings.0 nbr_reviews.0  \\\n",
       "0  1348394400.0    United States, Virginia             1             1   \n",
       "1  1207303200.0  United States, Washington             3             3   \n",
       "2  1322737200.0                    Estonia            11             0   \n",
       "3  1432116000.0                    England             1             0   \n",
       "4  1309946400.0                    Finland             8             8   \n",
       "\n",
       "            user_id.0  user_name.0 user_name_lower.0      joined.1  \\\n",
       "0     gendv138.695700     GenDV138          gendv138  1385722800.0   \n",
       "1   nimbleprop.208928   nimbleprop        nimbleprop  1150797600.0   \n",
       "2  visionthing.639993  visionthing       visionthing  1242986400.0   \n",
       "3     lazypyro.989356     LazyPyro          lazypyro  1431165600.0   \n",
       "4        tiong.608427        tiong             tiong  1260442800.0   \n",
       "\n",
       "                  location.1 nbr_ratings.1 nbr_reviews.1    user_id.1  \\\n",
       "0    United States, Virginia          6240        290599     GenDV138   \n",
       "1  United States, Washington          7452         38859   nimbleprop   \n",
       "2                    Estonia          5462         91324  visionthing   \n",
       "3                    England          1096        368991     LazyPyro   \n",
       "4                    Finland          6403         98624        tiong   \n",
       "\n",
       "   user_name.1  \n",
       "0     gendv138  \n",
       "1   nimbleprop  \n",
       "2  visionthing  \n",
       "3     lazypyro  \n",
       "4        tiong  "
      ],
      "text/html": [
       "<div>\n",
       "<style scoped>\n",
       "    .dataframe tbody tr th:only-of-type {\n",
       "        vertical-align: middle;\n",
       "    }\n",
       "\n",
       "    .dataframe tbody tr th {\n",
       "        vertical-align: top;\n",
       "    }\n",
       "\n",
       "    .dataframe thead th {\n",
       "        text-align: right;\n",
       "    }\n",
       "</style>\n",
       "<table border=\"1\" class=\"dataframe\">\n",
       "  <thead>\n",
       "    <tr style=\"text-align: right;\">\n",
       "      <th></th>\n",
       "      <th>joined.0</th>\n",
       "      <th>location.0</th>\n",
       "      <th>nbr_ratings.0</th>\n",
       "      <th>nbr_reviews.0</th>\n",
       "      <th>user_id.0</th>\n",
       "      <th>user_name.0</th>\n",
       "      <th>user_name_lower.0</th>\n",
       "      <th>joined.1</th>\n",
       "      <th>location.1</th>\n",
       "      <th>nbr_ratings.1</th>\n",
       "      <th>nbr_reviews.1</th>\n",
       "      <th>user_id.1</th>\n",
       "      <th>user_name.1</th>\n",
       "    </tr>\n",
       "  </thead>\n",
       "  <tbody>\n",
       "    <tr>\n",
       "      <th>0</th>\n",
       "      <td>1348394400.0</td>\n",
       "      <td>United States, Virginia</td>\n",
       "      <td>1</td>\n",
       "      <td>1</td>\n",
       "      <td>gendv138.695700</td>\n",
       "      <td>GenDV138</td>\n",
       "      <td>gendv138</td>\n",
       "      <td>1385722800.0</td>\n",
       "      <td>United States, Virginia</td>\n",
       "      <td>6240</td>\n",
       "      <td>290599</td>\n",
       "      <td>GenDV138</td>\n",
       "      <td>gendv138</td>\n",
       "    </tr>\n",
       "    <tr>\n",
       "      <th>1</th>\n",
       "      <td>1207303200.0</td>\n",
       "      <td>United States, Washington</td>\n",
       "      <td>3</td>\n",
       "      <td>3</td>\n",
       "      <td>nimbleprop.208928</td>\n",
       "      <td>nimbleprop</td>\n",
       "      <td>nimbleprop</td>\n",
       "      <td>1150797600.0</td>\n",
       "      <td>United States, Washington</td>\n",
       "      <td>7452</td>\n",
       "      <td>38859</td>\n",
       "      <td>nimbleprop</td>\n",
       "      <td>nimbleprop</td>\n",
       "    </tr>\n",
       "    <tr>\n",
       "      <th>2</th>\n",
       "      <td>1322737200.0</td>\n",
       "      <td>Estonia</td>\n",
       "      <td>11</td>\n",
       "      <td>0</td>\n",
       "      <td>visionthing.639993</td>\n",
       "      <td>visionthing</td>\n",
       "      <td>visionthing</td>\n",
       "      <td>1242986400.0</td>\n",
       "      <td>Estonia</td>\n",
       "      <td>5462</td>\n",
       "      <td>91324</td>\n",
       "      <td>visionthing</td>\n",
       "      <td>visionthing</td>\n",
       "    </tr>\n",
       "    <tr>\n",
       "      <th>3</th>\n",
       "      <td>1432116000.0</td>\n",
       "      <td>England</td>\n",
       "      <td>1</td>\n",
       "      <td>0</td>\n",
       "      <td>lazypyro.989356</td>\n",
       "      <td>LazyPyro</td>\n",
       "      <td>lazypyro</td>\n",
       "      <td>1431165600.0</td>\n",
       "      <td>England</td>\n",
       "      <td>1096</td>\n",
       "      <td>368991</td>\n",
       "      <td>LazyPyro</td>\n",
       "      <td>lazypyro</td>\n",
       "    </tr>\n",
       "    <tr>\n",
       "      <th>4</th>\n",
       "      <td>1309946400.0</td>\n",
       "      <td>Finland</td>\n",
       "      <td>8</td>\n",
       "      <td>8</td>\n",
       "      <td>tiong.608427</td>\n",
       "      <td>tiong</td>\n",
       "      <td>tiong</td>\n",
       "      <td>1260442800.0</td>\n",
       "      <td>Finland</td>\n",
       "      <td>6403</td>\n",
       "      <td>98624</td>\n",
       "      <td>tiong</td>\n",
       "      <td>tiong</td>\n",
       "    </tr>\n",
       "  </tbody>\n",
       "</table>\n",
       "</div>"
      ]
     },
     "execution_count": 41,
     "metadata": {},
     "output_type": "execute_result"
    }
   ],
   "execution_count": 41
  },
  {
   "metadata": {
    "ExecuteTime": {
     "end_time": "2024-10-31T13:02:40.999423Z",
     "start_time": "2024-10-31T13:02:40.945531Z"
    }
   },
   "cell_type": "code",
   "source": [
    "# Remove the states to only have the countries\n",
    "users_merged['country'] = users_merged['location.0'].str.split(',').str[0]\n",
    "\n",
    "# Compute the number of users in the top 5 countries\n",
    "top5_countries = users_merged['country'].value_counts().nlargest(5)\n",
    "\n",
    "# Compute the sum of the remaining countries\n",
    "other_countries_count = users_merged['country'].value_counts().sum() - top5_countries.sum()\n",
    "\n",
    "# Add the other countries count\n",
    "top_countries = pd.concat([top5_countries, pd.Series({'Other': other_countries_count})])\n",
    "\n",
    "# Calculate percentages for each country in top_countries\n",
    "total_users = users_merged['country'].value_counts().sum()\n",
    "top_countries_percent = (top_countries / total_users * 100).round(1)\n",
    "\n",
    "# Create labels with country name, count, and percentage\n",
    "top_countries_labels = [f\"{country}: {count} \" for country, count in zip(top_countries.index, top_countries)]\n",
    "\n",
    "top_countries.plot(\n",
    "    kind='pie',\n",
    "    autopct='%1.1f%%',\n",
    "    labels=top_countries_labels,\n",
    "    labeldistance=1.2,       # Controls the position of the label\n",
    ")\n",
    "plt.title(f'Distribution of users by country (Total users: {total_users}) for merged dataset')\n",
    "plt.ylabel('') \n",
    "plt.show()"
   ],
   "id": "bb652aeb39a18ff9",
   "outputs": [
    {
     "data": {
      "text/plain": [
       "<Figure size 640x480 with 1 Axes>"
      ],
      "image/png": "[encoded data removed]"
     },
     "metadata": {},
     "output_type": "display_data"
    }
   ],
   "execution_count": 78
  },
  {
   "metadata": {
    "ExecuteTime": {
     "end_time": "2024-10-31T10:18:14.433207Z",
     "start_time": "2024-10-31T10:18:14.429595Z"
    }
   },
   "cell_type": "code",
   "source": "top10_countries",
   "id": "3da0f6ddf8a05ffd",
   "outputs": [
    {
     "data": {
      "text/plain": [
       "country\n",
       "United States    2442\n",
       "Canada            171\n",
       "Australia          41\n",
       "Sweden             39\n",
       "England            33\n",
       "Name: count, dtype: int64"
      ]
     },
     "execution_count": 10,
     "metadata": {},
     "output_type": "execute_result"
    }
   ],
   "execution_count": 10
  },
  {
   "metadata": {},
   "cell_type": "markdown",
   "source": "For the merged dataset : 80.8% of the users originate from the United States, in particularly there are 2442 users from this country.\n",
   "id": "1f54261af9f84a83"
  },
  {
   "metadata": {},
   "cell_type": "markdown",
   "source": "#### Number of ratings per country\n",
   "id": "304f18ad7b945b2e"
  },
  {
   "metadata": {
    "ExecuteTime": {
     "end_time": "2024-10-31T12:36:12.583174Z",
     "start_time": "2024-10-31T12:36:12.574512Z"
    }
   },
   "cell_type": "code",
   "source": [
    "# Convert number of ratings values in numeric\n",
    "users_merged['nbr_ratings.1'] = pd.to_numeric(users_merged['nbr_ratings.1'], errors='coerce')\n",
    "users_merged['nbr_ratings.0'] = pd.to_numeric(users_merged['nbr_ratings.0'], errors='coerce')"
   ],
   "id": "ee4c6daba87e5255",
   "outputs": [],
   "execution_count": 44
  },
  {
   "metadata": {
    "ExecuteTime": {
     "end_time": "2024-10-31T12:36:13.780547Z",
     "start_time": "2024-10-31T12:36:13.722123Z"
    }
   },
   "cell_type": "code",
   "source": [
    "# Compute the sum of the number of ratings from the two website\n",
    "users_merged['total_ratings'] = users_merged['nbr_ratings.0'] + users_merged['nbr_ratings.1']\n",
    "\n",
    "# Regroup the number of ratings by countries\n",
    "country_ratings = users_merged.groupby('country')['total_ratings'].sum().reset_index()\n",
    "\n",
    "# Get the top 10 countries\n",
    "top_countries = country_ratings.nlargest(10, 'total_ratings')\n",
    "\n",
    "# Bar plot\n",
    "plt.bar(top_countries['country'], top_countries['total_ratings'])\n",
    "plt.xlabel('Country')\n",
    "plt.ylabel('Total ratings')\n",
    "plt.title('Top 10 countries by total ratings for merged dataset')\n",
    "plt.xticks(rotation=45)\n",
    "plt.show()"
   ],
   "id": "487e7b01f9f390cf",
   "outputs": [
    {
     "data": {
      "text/plain": [
       "<Figure size 640x480 with 1 Axes>"
      ],
      "image/png": "[encoded data removed]"
     },
     "metadata": {},
     "output_type": "display_data"
    }
   ],
   "execution_count": 45
  },
  {
   "metadata": {},
   "cell_type": "markdown",
   "source": "# Beer Advocate",
   "id": "32b1ebf901232a74"
  },
  {
   "metadata": {},
   "cell_type": "markdown",
   "source": "### Loading",
   "id": "ab3651cfcd16cb7b"
  },
  {
   "metadata": {
    "ExecuteTime": {
     "end_time": "2024-10-31T12:37:26.250367Z",
     "start_time": "2024-10-31T12:37:24.446401Z"
    }
   },
   "cell_type": "code",
   "source": [
    "file_path = 'data/BeerAdvocate.tar.gz'\n",
    "with tarfile.open(file_path, 'r:gz') as tar:\n",
    "    tar.extractall(path='../data')  \n",
    "    tar.list()"
   ],
   "id": "2f2d49ea4d43f24d",
   "outputs": [
    {
     "name": "stdout",
     "output_type": "stream",
     "text": [
      "?rwxrwxrwx gayouf/gayouf   29617210 2017-10-27 18:01:43 beers.csv \n",
      "?rwxrwxrwx gayouf/gayouf  729167813 2017-08-03 14:28:54 reviews.txt.gz \n",
      "?rwxrwxrwx gayouf/gayouf    9751813 2017-08-07 13:23:35 users.csv \n",
      "?rwxrwxrwx gayouf/gayouf     808192 2017-08-04 18:22:30 breweries.csv \n",
      "?rwxrwxr-x gayouf/gayouf  926302646 2017-08-03 14:29:24 ratings.txt.gz \n"
     ]
    }
   ],
   "execution_count": 46
  },
  {
   "metadata": {
    "ExecuteTime": {
     "end_time": "2024-10-31T12:38:23.589085Z",
     "start_time": "2024-10-31T12:37:26.317163Z"
    }
   },
   "cell_type": "code",
   "source": [
    "beers_ba = pd.read_csv('../data/beers.csv')\n",
    "reviews_ba = pd.read_csv('../data/reviews.txt.gz', delimiter='\\t', on_bad_lines='skip')\n",
    "users_ba = pd.read_csv('../data/users.csv')\n",
    "breweries_ba = pd.read_csv('../data/breweries.csv')\n",
    "ratings_ba = pd.read_csv('../data/ratings.txt.gz', delimiter='\\t', on_bad_lines='skip')"
   ],
   "id": "f21db41b64619ede",
   "outputs": [],
   "execution_count": 47
  },
  {
   "metadata": {
    "ExecuteTime": {
     "end_time": "2024-10-31T12:27:10.694804Z",
     "start_time": "2024-10-31T12:27:10.685819Z"
    }
   },
   "cell_type": "code",
   "source": "users_ba",
   "id": "3c4fb851cc6ffbf4",
   "outputs": [
    {
     "data": {
      "text/plain": [
       "        nbr_ratings  nbr_reviews                user_id        user_name  \\\n",
       "0              7820          465         nmann08.184925          nmann08   \n",
       "1              2521         2504     stjamesgate.163714      StJamesGate   \n",
       "2              1797         1143          mdagnew.19527          mdagnew   \n",
       "3                31           31  helloloser12345.10867  helloloser12345   \n",
       "4               604          604        cypressbob.3708       cypressbob   \n",
       "...             ...          ...                    ...              ...   \n",
       "153699            1            1         everman.532342          Everman   \n",
       "153700            1            1      justin0001.352175       Justin0001   \n",
       "153701            1            0        kyungsup.982216         Kyungsup   \n",
       "153702            1            1          joetex.800347           JoeTex   \n",
       "153703            1            1      alexmatt86.313751       Alexmatt86   \n",
       "\n",
       "              joined                   location  \n",
       "0       1.199704e+09  United States, Washington  \n",
       "1       1.191838e+09    United States, New York  \n",
       "2       1.116410e+09           Northern Ireland  \n",
       "3       1.101380e+09           Northern Ireland  \n",
       "4       1.069326e+09           Northern Ireland  \n",
       "...              ...                        ...  \n",
       "153699  1.291115e+09  United States, California  \n",
       "153700  1.248343e+09  United States, California  \n",
       "153701  1.430561e+09                        NaN  \n",
       "153702  1.400234e+09  United States, California  \n",
       "153703  1.238321e+09  United States, California  \n",
       "\n",
       "[153704 rows x 6 columns]"
      ],
      "text/html": [
       "<div>\n",
       "<style scoped>\n",
       "    .dataframe tbody tr th:only-of-type {\n",
       "        vertical-align: middle;\n",
       "    }\n",
       "\n",
       "    .dataframe tbody tr th {\n",
       "        vertical-align: top;\n",
       "    }\n",
       "\n",
       "    .dataframe thead th {\n",
       "        text-align: right;\n",
       "    }\n",
       "</style>\n",
       "<table border=\"1\" class=\"dataframe\">\n",
       "  <thead>\n",
       "    <tr style=\"text-align: right;\">\n",
       "      <th></th>\n",
       "      <th>nbr_ratings</th>\n",
       "      <th>nbr_reviews</th>\n",
       "      <th>user_id</th>\n",
       "      <th>user_name</th>\n",
       "      <th>joined</th>\n",
       "      <th>location</th>\n",
       "    </tr>\n",
       "  </thead>\n",
       "  <tbody>\n",
       "    <tr>\n",
       "      <th>0</th>\n",
       "      <td>7820</td>\n",
       "      <td>465</td>\n",
       "      <td>nmann08.184925</td>\n",
       "      <td>nmann08</td>\n",
       "      <td>1.199704e+09</td>\n",
       "      <td>United States, Washington</td>\n",
       "    </tr>\n",
       "    <tr>\n",
       "      <th>1</th>\n",
       "      <td>2521</td>\n",
       "      <td>2504</td>\n",
       "      <td>stjamesgate.163714</td>\n",
       "      <td>StJamesGate</td>\n",
       "      <td>1.191838e+09</td>\n",
       "      <td>United States, New York</td>\n",
       "    </tr>\n",
       "    <tr>\n",
       "      <th>2</th>\n",
       "      <td>1797</td>\n",
       "      <td>1143</td>\n",
       "      <td>mdagnew.19527</td>\n",
       "      <td>mdagnew</td>\n",
       "      <td>1.116410e+09</td>\n",
       "      <td>Northern Ireland</td>\n",
       "    </tr>\n",
       "    <tr>\n",
       "      <th>3</th>\n",
       "      <td>31</td>\n",
       "      <td>31</td>\n",
       "      <td>helloloser12345.10867</td>\n",
       "      <td>helloloser12345</td>\n",
       "      <td>1.101380e+09</td>\n",
       "      <td>Northern Ireland</td>\n",
       "    </tr>\n",
       "    <tr>\n",
       "      <th>4</th>\n",
       "      <td>604</td>\n",
       "      <td>604</td>\n",
       "      <td>cypressbob.3708</td>\n",
       "      <td>cypressbob</td>\n",
       "      <td>1.069326e+09</td>\n",
       "      <td>Northern Ireland</td>\n",
       "    </tr>\n",
       "    <tr>\n",
       "      <th>...</th>\n",
       "      <td>...</td>\n",
       "      <td>...</td>\n",
       "      <td>...</td>\n",
       "      <td>...</td>\n",
       "      <td>...</td>\n",
       "      <td>...</td>\n",
       "    </tr>\n",
       "    <tr>\n",
       "      <th>153699</th>\n",
       "      <td>1</td>\n",
       "      <td>1</td>\n",
       "      <td>everman.532342</td>\n",
       "      <td>Everman</td>\n",
       "      <td>1.291115e+09</td>\n",
       "      <td>United States, California</td>\n",
       "    </tr>\n",
       "    <tr>\n",
       "      <th>153700</th>\n",
       "      <td>1</td>\n",
       "      <td>1</td>\n",
       "      <td>justin0001.352175</td>\n",
       "      <td>Justin0001</td>\n",
       "      <td>1.248343e+09</td>\n",
       "      <td>United States, California</td>\n",
       "    </tr>\n",
       "    <tr>\n",
       "      <th>153701</th>\n",
       "      <td>1</td>\n",
       "      <td>0</td>\n",
       "      <td>kyungsup.982216</td>\n",
       "      <td>Kyungsup</td>\n",
       "      <td>1.430561e+09</td>\n",
       "      <td>NaN</td>\n",
       "    </tr>\n",
       "    <tr>\n",
       "      <th>153702</th>\n",
       "      <td>1</td>\n",
       "      <td>1</td>\n",
       "      <td>joetex.800347</td>\n",
       "      <td>JoeTex</td>\n",
       "      <td>1.400234e+09</td>\n",
       "      <td>United States, California</td>\n",
       "    </tr>\n",
       "    <tr>\n",
       "      <th>153703</th>\n",
       "      <td>1</td>\n",
       "      <td>1</td>\n",
       "      <td>alexmatt86.313751</td>\n",
       "      <td>Alexmatt86</td>\n",
       "      <td>1.238321e+09</td>\n",
       "      <td>United States, California</td>\n",
       "    </tr>\n",
       "  </tbody>\n",
       "</table>\n",
       "<p>153704 rows × 6 columns</p>\n",
       "</div>"
      ]
     },
     "execution_count": 24,
     "metadata": {},
     "output_type": "execute_result"
    }
   ],
   "execution_count": 24
  },
  {
   "metadata": {
    "ExecuteTime": {
     "end_time": "2024-10-31T12:28:59.651477Z",
     "start_time": "2024-10-31T12:28:59.630406Z"
    }
   },
   "cell_type": "code",
   "source": [
    "users_ba = users_ba.drop_duplicates(subset=['user_name']) # make sure there are no duplicates in user names\n",
    "users_ba"
   ],
   "id": "d166e0c2d7e13ffc",
   "outputs": [
    {
     "data": {
      "text/plain": [
       "        nbr_ratings  nbr_reviews                user_id        user_name  \\\n",
       "0              7820          465         nmann08.184925          nmann08   \n",
       "1              2521         2504     stjamesgate.163714      StJamesGate   \n",
       "2              1797         1143          mdagnew.19527          mdagnew   \n",
       "3                31           31  helloloser12345.10867  helloloser12345   \n",
       "4               604          604        cypressbob.3708       cypressbob   \n",
       "...             ...          ...                    ...              ...   \n",
       "153699            1            1         everman.532342          Everman   \n",
       "153700            1            1      justin0001.352175       Justin0001   \n",
       "153701            1            0        kyungsup.982216         Kyungsup   \n",
       "153702            1            1          joetex.800347           JoeTex   \n",
       "153703            1            1      alexmatt86.313751       Alexmatt86   \n",
       "\n",
       "              joined                   location  \n",
       "0       1.199704e+09  United States, Washington  \n",
       "1       1.191838e+09    United States, New York  \n",
       "2       1.116410e+09           Northern Ireland  \n",
       "3       1.101380e+09           Northern Ireland  \n",
       "4       1.069326e+09           Northern Ireland  \n",
       "...              ...                        ...  \n",
       "153699  1.291115e+09  United States, California  \n",
       "153700  1.248343e+09  United States, California  \n",
       "153701  1.430561e+09                        NaN  \n",
       "153702  1.400234e+09  United States, California  \n",
       "153703  1.238321e+09  United States, California  \n",
       "\n",
       "[153704 rows x 6 columns]"
      ],
      "text/html": [
       "<div>\n",
       "<style scoped>\n",
       "    .dataframe tbody tr th:only-of-type {\n",
       "        vertical-align: middle;\n",
       "    }\n",
       "\n",
       "    .dataframe tbody tr th {\n",
       "        vertical-align: top;\n",
       "    }\n",
       "\n",
       "    .dataframe thead th {\n",
       "        text-align: right;\n",
       "    }\n",
       "</style>\n",
       "<table border=\"1\" class=\"dataframe\">\n",
       "  <thead>\n",
       "    <tr style=\"text-align: right;\">\n",
       "      <th></th>\n",
       "      <th>nbr_ratings</th>\n",
       "      <th>nbr_reviews</th>\n",
       "      <th>user_id</th>\n",
       "      <th>user_name</th>\n",
       "      <th>joined</th>\n",
       "      <th>location</th>\n",
       "    </tr>\n",
       "  </thead>\n",
       "  <tbody>\n",
       "    <tr>\n",
       "      <th>0</th>\n",
       "      <td>7820</td>\n",
       "      <td>465</td>\n",
       "      <td>nmann08.184925</td>\n",
       "      <td>nmann08</td>\n",
       "      <td>1.199704e+09</td>\n",
       "      <td>United States, Washington</td>\n",
       "    </tr>\n",
       "    <tr>\n",
       "      <th>1</th>\n",
       "      <td>2521</td>\n",
       "      <td>2504</td>\n",
       "      <td>stjamesgate.163714</td>\n",
       "      <td>StJamesGate</td>\n",
       "      <td>1.191838e+09</td>\n",
       "      <td>United States, New York</td>\n",
       "    </tr>\n",
       "    <tr>\n",
       "      <th>2</th>\n",
       "      <td>1797</td>\n",
       "      <td>1143</td>\n",
       "      <td>mdagnew.19527</td>\n",
       "      <td>mdagnew</td>\n",
       "      <td>1.116410e+09</td>\n",
       "      <td>Northern Ireland</td>\n",
       "    </tr>\n",
       "    <tr>\n",
       "      <th>3</th>\n",
       "      <td>31</td>\n",
       "      <td>31</td>\n",
       "      <td>helloloser12345.10867</td>\n",
       "      <td>helloloser12345</td>\n",
       "      <td>1.101380e+09</td>\n",
       "      <td>Northern Ireland</td>\n",
       "    </tr>\n",
       "    <tr>\n",
       "      <th>4</th>\n",
       "      <td>604</td>\n",
       "      <td>604</td>\n",
       "      <td>cypressbob.3708</td>\n",
       "      <td>cypressbob</td>\n",
       "      <td>1.069326e+09</td>\n",
       "      <td>Northern Ireland</td>\n",
       "    </tr>\n",
       "    <tr>\n",
       "      <th>...</th>\n",
       "      <td>...</td>\n",
       "      <td>...</td>\n",
       "      <td>...</td>\n",
       "      <td>...</td>\n",
       "      <td>...</td>\n",
       "      <td>...</td>\n",
       "    </tr>\n",
       "    <tr>\n",
       "      <th>153699</th>\n",
       "      <td>1</td>\n",
       "      <td>1</td>\n",
       "      <td>everman.532342</td>\n",
       "      <td>Everman</td>\n",
       "      <td>1.291115e+09</td>\n",
       "      <td>United States, California</td>\n",
       "    </tr>\n",
       "    <tr>\n",
       "      <th>153700</th>\n",
       "      <td>1</td>\n",
       "      <td>1</td>\n",
       "      <td>justin0001.352175</td>\n",
       "      <td>Justin0001</td>\n",
       "      <td>1.248343e+09</td>\n",
       "      <td>United States, California</td>\n",
       "    </tr>\n",
       "    <tr>\n",
       "      <th>153701</th>\n",
       "      <td>1</td>\n",
       "      <td>0</td>\n",
       "      <td>kyungsup.982216</td>\n",
       "      <td>Kyungsup</td>\n",
       "      <td>1.430561e+09</td>\n",
       "      <td>NaN</td>\n",
       "    </tr>\n",
       "    <tr>\n",
       "      <th>153702</th>\n",
       "      <td>1</td>\n",
       "      <td>1</td>\n",
       "      <td>joetex.800347</td>\n",
       "      <td>JoeTex</td>\n",
       "      <td>1.400234e+09</td>\n",
       "      <td>United States, California</td>\n",
       "    </tr>\n",
       "    <tr>\n",
       "      <th>153703</th>\n",
       "      <td>1</td>\n",
       "      <td>1</td>\n",
       "      <td>alexmatt86.313751</td>\n",
       "      <td>Alexmatt86</td>\n",
       "      <td>1.238321e+09</td>\n",
       "      <td>United States, California</td>\n",
       "    </tr>\n",
       "  </tbody>\n",
       "</table>\n",
       "<p>153704 rows × 6 columns</p>\n",
       "</div>"
      ]
     },
     "execution_count": 26,
     "metadata": {},
     "output_type": "execute_result"
    }
   ],
   "execution_count": 26
  },
  {
   "metadata": {},
   "cell_type": "markdown",
   "source": "## Country analysis\n",
   "id": "c2b33b9b93e25787"
  },
  {
   "metadata": {},
   "cell_type": "markdown",
   "source": "#### For users",
   "id": "aec1fc1abb05c657"
  },
  {
   "metadata": {
    "ExecuteTime": {
     "end_time": "2024-10-31T13:03:53.275326Z",
     "start_time": "2024-10-31T13:03:53.165958Z"
    }
   },
   "cell_type": "code",
   "source": [
    "# Remove the states to only have the countries\n",
    "users_ba['country'] = users_ba['location'].str.split(',').str[0]\n",
    "\n",
    "# Compute the number of users in the top 5 countries\n",
    "top5_countries = users_ba['country'].value_counts().nlargest(5)\n",
    "\n",
    "# Compute the sum of the remaining countries\n",
    "other_countries_count = users_ba['country'].value_counts().sum() - top5_countries.sum()\n",
    "\n",
    "# Add the other countries count\n",
    "top_countries = pd.concat([top5_countries, pd.Series({'Other': other_countries_count})])\n",
    "\n",
    "# Calculate percentages for each country in top_countries\n",
    "total_users = users_ba['country'].value_counts().sum()\n",
    "top_countries_percent_ba = (top_countries / total_users * 100).round(1)\n",
    "\n",
    "# Create labels with country name, count, and percentage\n",
    "top_countries_labels = [f\"{country}: {count} \" for country, count in zip(top_countries.index, top_countries)]\n",
    "\n",
    "top_countries.plot(\n",
    "    kind='pie',\n",
    "    labels=top_countries_labels,\n",
    "    autopct='%1.1f%%',\n",
    "    labeldistance=1.2,       # Controls the position of the label\n",
    ")\n",
    "plt.title(f'Distribution of users by country (Total users: {total_users}) for BeerAdvocate dataset')\n",
    "plt.ylabel('') \n",
    "plt.show()"
   ],
   "id": "f09c1586c0a639e8",
   "outputs": [
    {
     "data": {
      "text/plain": [
       "<Figure size 640x480 with 1 Axes>"
      ],
      "image/png": "[encoded data removed]"
     },
     "metadata": {},
     "output_type": "display_data"
    }
   ],
   "execution_count": 85
  },
  {
   "metadata": {
    "ExecuteTime": {
     "end_time": "2024-10-31T12:31:05.158793Z",
     "start_time": "2024-10-31T12:31:05.154044Z"
    }
   },
   "cell_type": "code",
   "source": "top10_countries",
   "id": "eb8a95e38585f62",
   "outputs": [
    {
     "data": {
      "text/plain": [
       "country\n",
       "United States    113223\n",
       "Canada             3324\n",
       "England             791\n",
       "Australia           520\n",
       "Germany             372\n",
       "Name: count, dtype: int64"
      ]
     },
     "execution_count": 30,
     "metadata": {},
     "output_type": "execute_result"
    }
   ],
   "execution_count": 30
  },
  {
   "metadata": {},
   "cell_type": "markdown",
   "source": "For BeerAdvocates: 92.5% of users originate from United States, precisely 113'223 users. ",
   "id": "35afb92de312695"
  },
  {
   "metadata": {},
   "cell_type": "markdown",
   "source": "#### Number of ratings per country",
   "id": "4913141fc3555c93"
  },
  {
   "metadata": {
    "ExecuteTime": {
     "end_time": "2024-10-31T12:42:17.473690Z",
     "start_time": "2024-10-31T12:42:17.408180Z"
    }
   },
   "cell_type": "code",
   "source": [
    "# Convert number of ratings values in numeric\n",
    "users_ba['nbr_ratings'] = pd.to_numeric(users_ba['nbr_ratings'], errors='coerce')\n",
    "\n",
    "# Regroup the number of ratings by countries\n",
    "country_ratings = users_ba.groupby('country')['nbr_ratings'].sum().reset_index()\n",
    "\n",
    "# Get the top 10 countries\n",
    "top_countries = country_ratings.nlargest(10, 'nbr_ratings')\n",
    "\n",
    "# Bar plot\n",
    "plt.bar(top_countries['country'], top_countries['nbr_ratings'])\n",
    "plt.xlabel('Country')\n",
    "plt.ylabel('Number ratings')\n",
    "plt.title('Top 10 countries by total ratings for BeerAdvocate')\n",
    "plt.xticks(rotation=45)\n",
    "plt.show()"
   ],
   "id": "c6fb02a2d4b77ed2",
   "outputs": [
    {
     "data": {
      "text/plain": [
       "<Figure size 640x480 with 1 Axes>"
      ],
      "image/png": "[encoded data removed]"
     },
     "metadata": {},
     "output_type": "display_data"
    }
   ],
   "execution_count": 54
  },
  {
   "metadata": {},
   "cell_type": "markdown",
   "source": "# RateBeer\n",
   "id": "8915aa7bc14db4b9"
  },
  {
   "metadata": {},
   "cell_type": "markdown",
   "source": "### Loading",
   "id": "77006626b495437c"
  },
  {
   "metadata": {
    "ExecuteTime": {
     "end_time": "2024-10-31T12:43:32.604950Z",
     "start_time": "2024-10-31T12:43:30.659553Z"
    }
   },
   "cell_type": "code",
   "source": [
    "file_path = 'data/RateBeer.tar.gz'\n",
    "with tarfile.open(file_path, 'r:gz') as tar:\n",
    "    tar.extractall(path='../data')\n",
    "    tar.list()"
   ],
   "id": "62f79c9e5a700de7",
   "outputs": [
    {
     "name": "stdout",
     "output_type": "stream",
     "text": [
      "?rwxrwxrwx gayouf/gayouf   47204946 2017-10-27 18:02:52 beers.csv \n",
      "?rwxrwxr-x gayouf/gayouf  926392900 2017-08-03 19:55:50 reviews.txt.gz \n",
      "?rwxrwxrwx gayouf/gayouf    3202831 2017-08-07 13:16:07 users.csv \n",
      "?rwxrwxrwx gayouf/gayouf    1038205 2017-08-03 19:54:31 breweries.csv \n",
      "?rwxrwxr-x gayouf/gayouf  926392900 2017-08-03 19:55:50 ratings.txt.gz \n"
     ]
    }
   ],
   "execution_count": 55
  },
  {
   "metadata": {
    "ExecuteTime": {
     "end_time": "2024-10-31T12:45:26.972599Z",
     "start_time": "2024-10-31T12:44:18.370059Z"
    }
   },
   "cell_type": "code",
   "source": [
    "beers_rb = pd.read_csv('../data/beers.csv')\n",
    "reviews_rb = pd.read_csv('../data/reviews.txt.gz', delimiter='\\t', on_bad_lines='skip')\n",
    "users_rb = pd.read_csv('../data/users.csv')\n",
    "breweries_rb = pd.read_csv('../data/breweries.csv')\n",
    "ratings_rb = pd.read_csv('../data/ratings.txt.gz', delimiter='\\t', on_bad_lines='skip')"
   ],
   "id": "587b7528fa76fc2d",
   "outputs": [],
   "execution_count": 56
  },
  {
   "metadata": {},
   "cell_type": "markdown",
   "source": "",
   "id": "3ddd5f6ef32265ab"
  },
  {
   "metadata": {
    "ExecuteTime": {
     "end_time": "2024-10-31T12:45:53.587433Z",
     "start_time": "2024-10-31T12:45:53.582477Z"
    }
   },
   "cell_type": "code",
   "source": "users_rb",
   "id": "153e34f89fda2312",
   "outputs": [
    {
     "data": {
      "text/plain": [
       "       nbr_ratings  user_id     user_name        joined  \\\n",
       "0             1890   175852       Manslow  1.337508e+09   \n",
       "1               89   442761  MAGICuenca91  1.484046e+09   \n",
       "2              169   288889        Sibarh  1.384600e+09   \n",
       "3             3371   250510       fombe89  1.363950e+09   \n",
       "4            13043   122778    kevnic2008  1.296644e+09   \n",
       "...            ...      ...           ...           ...   \n",
       "70169            1   134893   stamfordbus  1.315217e+09   \n",
       "70170            1   327816      fobia405  1.406282e+09   \n",
       "70171            1   183139        junkin  1.339841e+09   \n",
       "70172            3    82020      klesidra  1.222250e+09   \n",
       "70173            1    48123     cathrinea  1.168859e+09   \n",
       "\n",
       "                      location  \n",
       "0                       Poland  \n",
       "1                        Spain  \n",
       "2                       Poland  \n",
       "3                        Spain  \n",
       "4                      Germany  \n",
       "...                        ...  \n",
       "70169                  England  \n",
       "70170                  Belgium  \n",
       "70171                      NaN  \n",
       "70172                 Slovenia  \n",
       "70173  United States, Virginia  \n",
       "\n",
       "[70174 rows x 5 columns]"
      ],
      "text/html": [
       "<div>\n",
       "<style scoped>\n",
       "    .dataframe tbody tr th:only-of-type {\n",
       "        vertical-align: middle;\n",
       "    }\n",
       "\n",
       "    .dataframe tbody tr th {\n",
       "        vertical-align: top;\n",
       "    }\n",
       "\n",
       "    .dataframe thead th {\n",
       "        text-align: right;\n",
       "    }\n",
       "</style>\n",
       "<table border=\"1\" class=\"dataframe\">\n",
       "  <thead>\n",
       "    <tr style=\"text-align: right;\">\n",
       "      <th></th>\n",
       "      <th>nbr_ratings</th>\n",
       "      <th>user_id</th>\n",
       "      <th>user_name</th>\n",
       "      <th>joined</th>\n",
       "      <th>location</th>\n",
       "    </tr>\n",
       "  </thead>\n",
       "  <tbody>\n",
       "    <tr>\n",
       "      <th>0</th>\n",
       "      <td>1890</td>\n",
       "      <td>175852</td>\n",
       "      <td>Manslow</td>\n",
       "      <td>1.337508e+09</td>\n",
       "      <td>Poland</td>\n",
       "    </tr>\n",
       "    <tr>\n",
       "      <th>1</th>\n",
       "      <td>89</td>\n",
       "      <td>442761</td>\n",
       "      <td>MAGICuenca91</td>\n",
       "      <td>1.484046e+09</td>\n",
       "      <td>Spain</td>\n",
       "    </tr>\n",
       "    <tr>\n",
       "      <th>2</th>\n",
       "      <td>169</td>\n",
       "      <td>288889</td>\n",
       "      <td>Sibarh</td>\n",
       "      <td>1.384600e+09</td>\n",
       "      <td>Poland</td>\n",
       "    </tr>\n",
       "    <tr>\n",
       "      <th>3</th>\n",
       "      <td>3371</td>\n",
       "      <td>250510</td>\n",
       "      <td>fombe89</td>\n",
       "      <td>1.363950e+09</td>\n",
       "      <td>Spain</td>\n",
       "    </tr>\n",
       "    <tr>\n",
       "      <th>4</th>\n",
       "      <td>13043</td>\n",
       "      <td>122778</td>\n",
       "      <td>kevnic2008</td>\n",
       "      <td>1.296644e+09</td>\n",
       "      <td>Germany</td>\n",
       "    </tr>\n",
       "    <tr>\n",
       "      <th>...</th>\n",
       "      <td>...</td>\n",
       "      <td>...</td>\n",
       "      <td>...</td>\n",
       "      <td>...</td>\n",
       "      <td>...</td>\n",
       "    </tr>\n",
       "    <tr>\n",
       "      <th>70169</th>\n",
       "      <td>1</td>\n",
       "      <td>134893</td>\n",
       "      <td>stamfordbus</td>\n",
       "      <td>1.315217e+09</td>\n",
       "      <td>England</td>\n",
       "    </tr>\n",
       "    <tr>\n",
       "      <th>70170</th>\n",
       "      <td>1</td>\n",
       "      <td>327816</td>\n",
       "      <td>fobia405</td>\n",
       "      <td>1.406282e+09</td>\n",
       "      <td>Belgium</td>\n",
       "    </tr>\n",
       "    <tr>\n",
       "      <th>70171</th>\n",
       "      <td>1</td>\n",
       "      <td>183139</td>\n",
       "      <td>junkin</td>\n",
       "      <td>1.339841e+09</td>\n",
       "      <td>NaN</td>\n",
       "    </tr>\n",
       "    <tr>\n",
       "      <th>70172</th>\n",
       "      <td>3</td>\n",
       "      <td>82020</td>\n",
       "      <td>klesidra</td>\n",
       "      <td>1.222250e+09</td>\n",
       "      <td>Slovenia</td>\n",
       "    </tr>\n",
       "    <tr>\n",
       "      <th>70173</th>\n",
       "      <td>1</td>\n",
       "      <td>48123</td>\n",
       "      <td>cathrinea</td>\n",
       "      <td>1.168859e+09</td>\n",
       "      <td>United States, Virginia</td>\n",
       "    </tr>\n",
       "  </tbody>\n",
       "</table>\n",
       "<p>70174 rows × 5 columns</p>\n",
       "</div>"
      ]
     },
     "execution_count": 58,
     "metadata": {},
     "output_type": "execute_result"
    }
   ],
   "execution_count": 58
  },
  {
   "metadata": {
    "ExecuteTime": {
     "end_time": "2024-10-31T12:46:13.540550Z",
     "start_time": "2024-10-31T12:46:13.531473Z"
    }
   },
   "cell_type": "code",
   "source": [
    "users_rb = users_rb.drop_duplicates(subset=['user_name']) # make sure there are no duplicates in user names\n",
    "users_rb"
   ],
   "id": "247b9576c1e7717b",
   "outputs": [
    {
     "data": {
      "text/plain": [
       "       nbr_ratings  user_id     user_name        joined  \\\n",
       "0             1890   175852       Manslow  1.337508e+09   \n",
       "1               89   442761  MAGICuenca91  1.484046e+09   \n",
       "2              169   288889        Sibarh  1.384600e+09   \n",
       "3             3371   250510       fombe89  1.363950e+09   \n",
       "4            13043   122778    kevnic2008  1.296644e+09   \n",
       "...            ...      ...           ...           ...   \n",
       "70169            1   134893   stamfordbus  1.315217e+09   \n",
       "70170            1   327816      fobia405  1.406282e+09   \n",
       "70171            1   183139        junkin  1.339841e+09   \n",
       "70172            3    82020      klesidra  1.222250e+09   \n",
       "70173            1    48123     cathrinea  1.168859e+09   \n",
       "\n",
       "                      location  \n",
       "0                       Poland  \n",
       "1                        Spain  \n",
       "2                       Poland  \n",
       "3                        Spain  \n",
       "4                      Germany  \n",
       "...                        ...  \n",
       "70169                  England  \n",
       "70170                  Belgium  \n",
       "70171                      NaN  \n",
       "70172                 Slovenia  \n",
       "70173  United States, Virginia  \n",
       "\n",
       "[70174 rows x 5 columns]"
      ],
      "text/html": [
       "<div>\n",
       "<style scoped>\n",
       "    .dataframe tbody tr th:only-of-type {\n",
       "        vertical-align: middle;\n",
       "    }\n",
       "\n",
       "    .dataframe tbody tr th {\n",
       "        vertical-align: top;\n",
       "    }\n",
       "\n",
       "    .dataframe thead th {\n",
       "        text-align: right;\n",
       "    }\n",
       "</style>\n",
       "<table border=\"1\" class=\"dataframe\">\n",
       "  <thead>\n",
       "    <tr style=\"text-align: right;\">\n",
       "      <th></th>\n",
       "      <th>nbr_ratings</th>\n",
       "      <th>user_id</th>\n",
       "      <th>user_name</th>\n",
       "      <th>joined</th>\n",
       "      <th>location</th>\n",
       "    </tr>\n",
       "  </thead>\n",
       "  <tbody>\n",
       "    <tr>\n",
       "      <th>0</th>\n",
       "      <td>1890</td>\n",
       "      <td>175852</td>\n",
       "      <td>Manslow</td>\n",
       "      <td>1.337508e+09</td>\n",
       "      <td>Poland</td>\n",
       "    </tr>\n",
       "    <tr>\n",
       "      <th>1</th>\n",
       "      <td>89</td>\n",
       "      <td>442761</td>\n",
       "      <td>MAGICuenca91</td>\n",
       "      <td>1.484046e+09</td>\n",
       "      <td>Spain</td>\n",
       "    </tr>\n",
       "    <tr>\n",
       "      <th>2</th>\n",
       "      <td>169</td>\n",
       "      <td>288889</td>\n",
       "      <td>Sibarh</td>\n",
       "      <td>1.384600e+09</td>\n",
       "      <td>Poland</td>\n",
       "    </tr>\n",
       "    <tr>\n",
       "      <th>3</th>\n",
       "      <td>3371</td>\n",
       "      <td>250510</td>\n",
       "      <td>fombe89</td>\n",
       "      <td>1.363950e+09</td>\n",
       "      <td>Spain</td>\n",
       "    </tr>\n",
       "    <tr>\n",
       "      <th>4</th>\n",
       "      <td>13043</td>\n",
       "      <td>122778</td>\n",
       "      <td>kevnic2008</td>\n",
       "      <td>1.296644e+09</td>\n",
       "      <td>Germany</td>\n",
       "    </tr>\n",
       "    <tr>\n",
       "      <th>...</th>\n",
       "      <td>...</td>\n",
       "      <td>...</td>\n",
       "      <td>...</td>\n",
       "      <td>...</td>\n",
       "      <td>...</td>\n",
       "    </tr>\n",
       "    <tr>\n",
       "      <th>70169</th>\n",
       "      <td>1</td>\n",
       "      <td>134893</td>\n",
       "      <td>stamfordbus</td>\n",
       "      <td>1.315217e+09</td>\n",
       "      <td>England</td>\n",
       "    </tr>\n",
       "    <tr>\n",
       "      <th>70170</th>\n",
       "      <td>1</td>\n",
       "      <td>327816</td>\n",
       "      <td>fobia405</td>\n",
       "      <td>1.406282e+09</td>\n",
       "      <td>Belgium</td>\n",
       "    </tr>\n",
       "    <tr>\n",
       "      <th>70171</th>\n",
       "      <td>1</td>\n",
       "      <td>183139</td>\n",
       "      <td>junkin</td>\n",
       "      <td>1.339841e+09</td>\n",
       "      <td>NaN</td>\n",
       "    </tr>\n",
       "    <tr>\n",
       "      <th>70172</th>\n",
       "      <td>3</td>\n",
       "      <td>82020</td>\n",
       "      <td>klesidra</td>\n",
       "      <td>1.222250e+09</td>\n",
       "      <td>Slovenia</td>\n",
       "    </tr>\n",
       "    <tr>\n",
       "      <th>70173</th>\n",
       "      <td>1</td>\n",
       "      <td>48123</td>\n",
       "      <td>cathrinea</td>\n",
       "      <td>1.168859e+09</td>\n",
       "      <td>United States, Virginia</td>\n",
       "    </tr>\n",
       "  </tbody>\n",
       "</table>\n",
       "<p>70174 rows × 5 columns</p>\n",
       "</div>"
      ]
     },
     "execution_count": 61,
     "metadata": {},
     "output_type": "execute_result"
    }
   ],
   "execution_count": 61
  },
  {
   "metadata": {},
   "cell_type": "markdown",
   "source": "## Country analysis",
   "id": "d654a571904160b7"
  },
  {
   "metadata": {},
   "cell_type": "markdown",
   "source": "#### For users",
   "id": "2a977454ff309d84"
  },
  {
   "metadata": {
    "ExecuteTime": {
     "end_time": "2024-10-31T13:04:52.905581Z",
     "start_time": "2024-10-31T13:04:52.707675Z"
    }
   },
   "cell_type": "code",
   "source": [
    "# Remove the states to only have the countries\n",
    "users_rb['country'] = users_rb['location'].str.split(',').str[0]\n",
    "\n",
    "# Compute the number of users in the top 5 countries\n",
    "top5_countries = users_rb['country'].value_counts().nlargest(5)\n",
    "\n",
    "# Compute the sum of the remaining countries\n",
    "other_countries_count = users_rb['country'].value_counts().sum() - top5_countries.sum()\n",
    "\n",
    "# Add the other countries count\n",
    "top_countries = pd.concat([top5_countries, pd.Series({'Other': other_countries_count})])\n",
    "\n",
    "# Calculate percentages for each country in top_countries\n",
    "total_users = users_ba['country'].value_counts().sum()\n",
    "top_countries_percent_rb = (top_countries / total_users * 100).round(1)\n",
    "\n",
    "# Create labels with country name, count, and percentage\n",
    "top_countries_labels = [f\"{country}: {count} \" for country, count in zip(top_countries.index, top_countries)]\n",
    "\n",
    "top_countries.plot(\n",
    "    kind='pie',\n",
    "    labels=top_countries_labels,\n",
    "    autopct='%1.1f%%',\n",
    "    labeldistance=1.2,       # Controls the position of the label\n",
    ")\n",
    "plt.title(f'Distribution of users by country (Total users: {total_users}) for RateBeer dataset')\n",
    "plt.ylabel('') \n",
    "plt.show()"
   ],
   "id": "29f03d64dddf000c",
   "outputs": [
    {
     "data": {
      "text/plain": [
       "<Figure size 640x480 with 1 Axes>"
      ],
      "image/png": "[encoded data removed]"
     },
     "metadata": {},
     "output_type": "display_data"
    }
   ],
   "execution_count": 86
  },
  {
   "metadata": {
    "ExecuteTime": {
     "end_time": "2024-10-31T12:47:51.605123Z",
     "start_time": "2024-10-31T12:47:51.600210Z"
    }
   },
   "cell_type": "code",
   "source": "top10_countries",
   "id": "3526750f54efd648",
   "outputs": [
    {
     "data": {
      "text/plain": [
       "country\n",
       "United States    26855\n",
       "Canada            3255\n",
       "England           2734\n",
       "Poland            1701\n",
       "Australia         1476\n",
       "Name: count, dtype: int64"
      ]
     },
     "execution_count": 63,
     "metadata": {},
     "output_type": "execute_result"
    }
   ],
   "execution_count": 63
  },
  {
   "metadata": {},
   "cell_type": "markdown",
   "source": "#### Number of ratings per country",
   "id": "ab8e4e9a623a8cb3"
  },
  {
   "metadata": {
    "ExecuteTime": {
     "end_time": "2024-10-31T12:48:45.453006Z",
     "start_time": "2024-10-31T12:48:45.365679Z"
    }
   },
   "cell_type": "code",
   "source": [
    "# Convert number of ratings values in numeric\n",
    "users_rb['nbr_ratings'] = pd.to_numeric(users_rb['nbr_ratings'], errors='coerce')\n",
    "\n",
    "# Regroup the number of ratings by countries\n",
    "country_ratings = users_rb.groupby('country')['nbr_ratings'].sum().reset_index()\n",
    "\n",
    "# Get the top 10 countries\n",
    "top_countries = country_ratings.nlargest(10, 'nbr_ratings')\n",
    "\n",
    "# Bar plot\n",
    "plt.bar(top_countries['country'], top_countries['nbr_ratings'])\n",
    "plt.xlabel('Country')\n",
    "plt.ylabel('Number ratings')\n",
    "plt.title('Top 10 countries by total ratings for RateBeer')\n",
    "plt.xticks(rotation=45)\n",
    "plt.show()"
   ],
   "id": "d59ec1424187e368",
   "outputs": [
    {
     "data": {
      "text/plain": [
       "<Figure size 640x480 with 1 Axes>"
      ],
      "image/png": "[encoded data removed]"
     },
     "metadata": {},
     "output_type": "display_data"
    }
   ],
   "execution_count": 64
  }
 ],
 "metadata": {
  "kernelspec": {
   "display_name": "Python 3",
   "language": "python",
   "name": "python3"
  },
  "language_info": {
   "codemirror_mode": {
    "name": "ipython",
    "version": 2
   },
   "file_extension": ".py",
   "mimetype": "text/x-python",
   "name": "python",
   "nbconvert_exporter": "python",
   "pygments_lexer": "ipython2",
   "version": "2.7.6"
  }
 },
 "nbformat": 4,
 "nbformat_minor": 5
}
