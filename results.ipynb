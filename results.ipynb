{
 "cells": [
  {
   "metadata": {},
   "cell_type": "markdown",
   "source": "# ADA Project - DataBrewers",
   "id": "3b9619c26d18df13"
  },
  {
   "metadata": {},
   "cell_type": "markdown",
   "source": [
    "The aim of this project is to analyze beer preference shifts across seasons and in response to weather changes, events and cultural festivities. This could significantly help professionals (brewers, marketers, etc.) by providing insights into customer preferences. \n",
    "By understanding seasonal trends, brewers can adjust their product offerings to align more closely with consumer demand. \n",
    "Moreover, as a conclusion of our research, we could suggest the best beer that would be the perfect match for each season/festivity, in the form of a time fresco. \n",
    "\n",
    "\n",
    "## Data selection and filtering\n",
    "Our analysis will primarly focus on the reviews published by users based in the United State of America. The reason for this choice is that it is the country were the majority of reviews are done, and it provides us with enough data to conduct our analysis.\n",
    "\n",
    "1. **The Herding Effect:** As explained in the paper \"When Sheep Shop: Measuring Herding Effects in Product Ratings with Natural Experiments\" from Gael Lederrey and Robert West, initial ratings can influence the following ones. By focusing on a single dataset, we can better control for this effect within a single user community. Including RateBeer might introduce inconsistent herding effects that could skew comparative analyses.\n",
    "2. **Inconsistant Rating Standards:** Both BeerAdvocate and RateBeer communities likely develop their own informal standards for beer ratings. Focusing on a single platform like BeerAdvocate allows dor a more cohesive dataset, with users who rate within the same context, minimizing cross-platform variance.\n",
    "3. **Data Sufficiency:** The BeerAdvocate dataset provides us with enough reviews and data to perform meaningful analysis and draw reliable insights."
   ],
   "id": "6e242cd04c1bf338"
  },
  {
   "metadata": {
    "ExecuteTime": {
     "end_time": "2024-11-09T10:17:03.302935Z",
     "start_time": "2024-11-09T10:17:03.300741Z"
    }
   },
   "cell_type": "code",
   "source": [
    "import pandas as pd\n",
    "import tarfile\n",
    "import matplotlib.pyplot as plt\n",
    "import seaborn as sns"
   ],
   "id": "700363a6d072807a",
   "outputs": [],
   "execution_count": 1
  },
  {
   "metadata": {},
   "cell_type": "markdown",
   "source": "### Loading",
   "id": "ee956efc55d4079d"
  },
  {
   "metadata": {},
   "cell_type": "markdown",
   "source": "Matched beer dataset loading:",
   "id": "b1f07cddd881fddc"
  },
  {
   "metadata": {
    "ExecuteTime": {
     "end_time": "2024-11-09T10:17:03.862570Z",
     "start_time": "2024-11-09T10:17:03.323735Z"
    }
   },
   "cell_type": "code",
   "source": [
    "file_path = 'data/matched_beer_data.tar.gz'\n",
    "with tarfile.open(file_path, 'r:gz') as tar:\n",
    "    tar.extractall(path='../data')  \n",
    "    tar.list()"
   ],
   "id": "3624d0f625193bbf",
   "outputs": [
    {
     "name": "stdout",
     "output_type": "stream",
     "text": [
      "?rwxrwxrwx gayouf/gayouf   26775015 2017-08-10 17:15:37 ratings.csv \n",
      "?rw-rw-r-- gayouf/gayouf   99396732 2018-03-19 14:13:29 ratings_ba.txt.gz \n",
      "?rw-rw-r-- gayouf/gayouf  133634318 2018-03-19 14:22:54 ratings_rb.txt.gz \n",
      "?rwxrwxrwx gayouf/gayouf     533538 2017-08-08 15:35:54 users_approx.csv \n",
      "?rwxrwxrwx gayouf/gayouf     429785 2017-08-07 14:51:08 users.csv \n",
      "?rwxrwxrwx gayouf/gayouf   14246582 2018-03-19 14:26:49 beers.csv \n",
      "?rwxrwxrwx gayouf/gayouf    1045044 2017-08-02 18:10:05 breweries.csv \n",
      "?rw-rw-r-- gayouf/gayouf   77201217 2018-03-20 21:16:35 ratings_with_text_ba.txt.gz \n",
      "?rw-rw-r-- gayouf/gayouf  133632940 2018-03-20 21:25:56 ratings_with_text_rb.txt.gz \n"
     ]
    }
   ],
   "execution_count": 2
  },
  {
   "metadata": {
    "ExecuteTime": {
     "end_time": "2024-11-09T10:17:04.260682Z",
     "start_time": "2024-11-09T10:17:03.903736Z"
    }
   },
   "cell_type": "code",
   "source": [
    "ratings_merged = pd.read_csv('../data/ratings.csv', low_memory=False)\n",
    "users_approx = pd.read_csv('../data/users_approx.csv')\n",
    "users_merged = pd.read_csv('../data/users.csv')\n",
    "beers_merged = pd.read_csv('../data/beers.csv', low_memory=False)\n",
    "breweries_merged = pd.read_csv('../data/breweries.csv')"
   ],
   "id": "29d832b3142d8780",
   "outputs": [],
   "execution_count": 3
  },
  {
   "metadata": {},
   "cell_type": "markdown",
   "source": "BeerAdvocated loading:",
   "id": "eeacf179d6c4b6ed"
  },
  {
   "metadata": {
    "ExecuteTime": {
     "end_time": "2024-11-09T10:17:05.752370Z",
     "start_time": "2024-11-09T10:17:04.278722Z"
    }
   },
   "cell_type": "code",
   "source": [
    "file_path = 'data/BeerAdvocate.tar.gz'\n",
    "with tarfile.open(file_path, 'r:gz') as tar:\n",
    "    tar.extractall(path='../data')  \n",
    "    tar.list()"
   ],
   "id": "ef3883556ef8dc88",
   "outputs": [
    {
     "name": "stdout",
     "output_type": "stream",
     "text": [
      "?rwxrwxrwx gayouf/gayouf   29617210 2017-10-27 18:01:43 beers.csv \n",
      "?rwxrwxrwx gayouf/gayouf  729167813 2017-08-03 14:28:54 reviews.txt.gz \n",
      "?rwxrwxrwx gayouf/gayouf    9751813 2017-08-07 13:23:35 users.csv \n",
      "?rwxrwxrwx gayouf/gayouf     808192 2017-08-04 18:22:30 breweries.csv \n",
      "?rwxrwxr-x gayouf/gayouf  926302646 2017-08-03 14:29:24 ratings.txt.gz \n"
     ]
    }
   ],
   "execution_count": 4
  },
  {
   "metadata": {
    "ExecuteTime": {
     "end_time": "2024-11-09T10:17:57.959989Z",
     "start_time": "2024-11-09T10:17:05.770222Z"
    }
   },
   "cell_type": "code",
   "source": [
    "beers_ba = pd.read_csv('../data/beers.csv')\n",
    "reviews_ba = pd.read_csv('../data/reviews.txt.gz', header=None, names=[\"info\"], delimiter='\\t', on_bad_lines='skip')\n",
    "users_ba = pd.read_csv('../data/users.csv')\n",
    "breweries_ba = pd.read_csv('../data/breweries.csv')\n",
    "ratings_ba = pd.read_csv('../data/ratings.txt.gz', delimiter='\\t', on_bad_lines='skip')"
   ],
   "id": "bbaef4ee3a020905",
   "outputs": [],
   "execution_count": 5
  },
  {
   "metadata": {},
   "cell_type": "markdown",
   "source": "RateBeer loading:",
   "id": "23fee9c265b1593"
  },
  {
   "metadata": {
    "ExecuteTime": {
     "end_time": "2024-11-09T10:17:59.797112Z",
     "start_time": "2024-11-09T10:17:57.996589Z"
    }
   },
   "cell_type": "code",
   "source": [
    "file_path = 'data/RateBeer.tar.gz'\n",
    "with tarfile.open(file_path, 'r:gz') as tar:\n",
    "    tar.extractall(path='../data')\n",
    "    tar.list()"
   ],
   "id": "66c03812ea1b022c",
   "outputs": [
    {
     "name": "stdout",
     "output_type": "stream",
     "text": [
      "?rwxrwxrwx gayouf/gayouf   47204946 2017-10-27 18:02:52 beers.csv \n",
      "?rwxrwxr-x gayouf/gayouf  926392900 2017-08-03 19:55:50 reviews.txt.gz \n",
      "?rwxrwxrwx gayouf/gayouf    3202831 2017-08-07 13:16:07 users.csv \n",
      "?rwxrwxrwx gayouf/gayouf    1038205 2017-08-03 19:54:31 breweries.csv \n",
      "?rwxrwxr-x gayouf/gayouf  926392900 2017-08-03 19:55:50 ratings.txt.gz \n"
     ]
    }
   ],
   "execution_count": 6
  },
  {
   "metadata": {
    "ExecuteTime": {
     "end_time": "2024-11-09T10:19:06.025141Z",
     "start_time": "2024-11-09T10:17:59.818451Z"
    }
   },
   "cell_type": "code",
   "source": [
    "beers_rb = pd.read_csv('../data/beers.csv')\n",
    "reviews_rb = pd.read_csv('../data/reviews.txt.gz', header=None, names=[\"info\"], delimiter='\\t', on_bad_lines='skip')\n",
    "users_rb = pd.read_csv('../data/users.csv')\n",
    "breweries_rb = pd.read_csv('../data/breweries.csv')\n",
    "ratings_rb = pd.read_csv('../data/ratings.txt.gz', delimiter='\\t', on_bad_lines='skip')"
   ],
   "id": "5766b458425dd3e1",
   "outputs": [],
   "execution_count": 7
  },
  {
   "metadata": {},
   "cell_type": "markdown",
   "source": "### Difference between the RateBeer and BeerAdvocate dataset",
   "id": "713a9f76dbcff082"
  },
  {
   "metadata": {},
   "cell_type": "markdown",
   "source": "Number of users",
   "id": "e9def36e823c99a9"
  },
  {
   "metadata": {
    "ExecuteTime": {
     "end_time": "2024-11-09T10:19:06.074009Z",
     "start_time": "2024-11-09T10:19:06.068981Z"
    }
   },
   "cell_type": "code",
   "source": [
    "nb_users_rb = len(users_rb)\n",
    "nb_users_ba = len(users_ba)\n",
    "\n",
    "print(\"The RateBeer dataset have\", nb_users_rb, \"users.\")\n",
    "print(\"The BeerAdvocate dataset have\", nb_users_ba, \"users.\")"
   ],
   "id": "78d2f069e693cb41",
   "outputs": [
    {
     "name": "stdout",
     "output_type": "stream",
     "text": [
      "The RateBeer dataset have 70174 users.\n",
      "The BeerAdvocate dataset have 153704 users.\n"
     ]
    }
   ],
   "execution_count": 8
  },
  {
   "metadata": {},
   "cell_type": "markdown",
   "source": "Number of beers",
   "id": "4a2458a56af305be"
  },
  {
   "metadata": {
    "ExecuteTime": {
     "end_time": "2024-11-09T10:19:06.170423Z",
     "start_time": "2024-11-09T10:19:06.167759Z"
    }
   },
   "cell_type": "code",
   "source": [
    "# We prompt the number of beers in the dataset\n",
    "nb_beers_rb = len(beers_rb)\n",
    "nb_beers_ba = len(beers_ba)\n",
    "\n",
    "print(\"The RateBeer dataset have\", nb_beers_rb, \"beers.\")\n",
    "print(\"The BeerAdvocate dataset have\", nb_beers_ba, \"beers.\")"
   ],
   "id": "8bbbeb67ac2d4fc2",
   "outputs": [
    {
     "name": "stdout",
     "output_type": "stream",
     "text": [
      "The RateBeer dataset have 442081 beers.\n",
      "The BeerAdvocate dataset have 280823 beers.\n"
     ]
    }
   ],
   "execution_count": 9
  },
  {
   "metadata": {},
   "cell_type": "markdown",
   "source": "Number of ratings",
   "id": "769bb89176345934"
  },
  {
   "metadata": {
    "ExecuteTime": {
     "end_time": "2024-11-09T10:19:06.220173Z",
     "start_time": "2024-11-09T10:19:06.207777Z"
    }
   },
   "cell_type": "code",
   "source": [
    "# We prompt the numbers of ratings in the dataset using the nbr_ratings column of the beers dataset and summing them\n",
    "nb_ratings_rb = beers_rb['nbr_ratings'].sum()\n",
    "nb_ratings_ba = beers_ba['nbr_ratings'].sum()\n",
    "\n",
    "print(\"The RateBeer dataset have\", nb_ratings_rb, \"ratings.\")\n",
    "print(\"The BeerAdvocate dataset have\", nb_ratings_ba, \"ratings.\")"
   ],
   "id": "e138035dcc67cd7d",
   "outputs": [
    {
     "name": "stdout",
     "output_type": "stream",
     "text": [
      "The RateBeer dataset have 7122074 ratings.\n",
      "The BeerAdvocate dataset have 8393032 ratings.\n"
     ]
    }
   ],
   "execution_count": 10
  },
  {
   "metadata": {},
   "cell_type": "markdown",
   "source": "Numbers of reviews",
   "id": "4aa476b3c0603a2"
  },
  {
   "metadata": {
    "ExecuteTime": {
     "end_time": "2024-11-09T10:22:15.443778Z",
     "start_time": "2024-11-09T10:19:06.246408Z"
    }
   },
   "cell_type": "code",
   "source": [
    "# Add review_id based on 16-row structure \n",
    "reviews_ba['review_id'] = reviews_ba.index // 16\n",
    "\n",
    "# Split key-value pairs and filter valid splits\n",
    "split_data_ba = reviews_ba['info'].str.split(': ', n=1, expand=True)\n",
    "split_data_ba = split_data_ba[split_data_ba[1].notna()]  # Remove rows with no :\n",
    "\n",
    "# Assign key and value columns\n",
    "reviews_ba[['key', 'value']] = split_data_ba\n",
    "\n",
    "# Pivot the table to convert key to a column\n",
    "reviews_ba = reviews_ba.pivot(index='review_id', columns='key', values='value').reset_index(drop=True)"
   ],
   "id": "1553c32ce06180d8",
   "outputs": [],
   "execution_count": 11
  },
  {
   "metadata": {
    "ExecuteTime": {
     "end_time": "2024-11-09T10:22:20.396441Z",
     "start_time": "2024-11-09T10:22:15.618933Z"
    }
   },
   "cell_type": "code",
   "source": "del split_data_ba",
   "id": "b09bc63fe36df28e",
   "outputs": [],
   "execution_count": 12
  },
  {
   "metadata": {
    "ExecuteTime": {
     "end_time": "2024-11-09T10:26:15.846151Z",
     "start_time": "2024-11-09T10:22:20.445765Z"
    }
   },
   "cell_type": "code",
   "source": [
    "# Load the reviews dataset in batches\n",
    "\n",
    "processed_chunks = []\n",
    "chunk_size = 1600  \n",
    "\n",
    "for chunk in pd.read_csv('../data/reviews.txt.gz', header=None, names=[\"info\"], delimiter='\\t', \n",
    "                         on_bad_lines='skip', chunksize=chunk_size):\n",
    "    \n",
    "    # Add review_id based on 16-row structure \n",
    "    chunk['review_id'] = chunk.index // 16\n",
    "    \n",
    "    # Split key-value pairs and remove rows without a valid split\n",
    "    split_data = chunk['info'].str.split(': ', n=1, expand=True)\n",
    "    split_data = split_data[split_data[1].notna()]\n",
    "    \n",
    "    # Assign key and value columns\n",
    "    chunk[['key', 'value']] = split_data\n",
    "    \n",
    "    # Pivot the chunk to convert key to columns\n",
    "    chunk_pivoted = chunk.pivot(index='review_id', columns='key', values='value').reset_index(drop=True)\n",
    "    processed_chunks.append(chunk_pivoted)\n",
    "\n",
    "# Concatenate all processed chunks\n",
    "reviews_rb = pd.concat(processed_chunks, ignore_index=True)"
   ],
   "id": "f4e1ff0d4e2a9056",
   "outputs": [],
   "execution_count": 13
  },
  {
   "metadata": {
    "ExecuteTime": {
     "end_time": "2024-11-09T10:31:48.759672Z",
     "start_time": "2024-11-09T10:31:48.757313Z"
    }
   },
   "cell_type": "code",
   "source": [
    "# We prompt the numbers of ratings in the dataset using the nbr_ratings column of the beers dataset and summing them\n",
    "nb_reviews_rb = len(reviews_rb)\n",
    "nb_reviews_ba = len(reviews_ba)\n",
    "\n",
    "print(\"The RateBeer dataset have\", nb_reviews_rb, \"reviews.\")\n",
    "print(\"The BeerAdvocate dataset have\", nb_reviews_ba, \"reviews.\")"
   ],
   "id": "1b685f6b646a4a44",
   "outputs": [
    {
     "name": "stdout",
     "output_type": "stream",
     "text": [
      "The RateBeer dataset have 7122074 reviews.\n",
      "The BeerAdvocate dataset have 2589586 reviews.\n"
     ]
    }
   ],
   "execution_count": 16
  },
  {
   "metadata": {
    "ExecuteTime": {
     "end_time": "2024-11-09T10:39:16.722101Z",
     "start_time": "2024-11-09T10:39:16.659121Z"
    }
   },
   "cell_type": "code",
   "source": [
    "labels = [\"users\", \"beers\", \"ratings\", \"reviews\"]\n",
    "\n",
    "rb_counts = [nb_users_rb, nb_beers_rb, nb_ratings_rb, nb_reviews_rb]\n",
    "ba_counts = [nb_users_ba, nb_beers_ba, nb_ratings_ba, nb_reviews_ba]\n",
    "\n",
    "x = np.arange(len(labels))\n",
    "width = 0.3\n",
    "\n",
    "fig, ax = plt.subplots()\n",
    "bars_rb = ax.bar(x - width/2, rb_counts, width, label='RateBeer', color='blue')\n",
    "bars_ba = ax.bar(x + width/2, ba_counts, width, label='BeerAdvocate', color='lightpink')\n",
    "\n",
    "ax.set_ylabel('Numbers')\n",
    "ax.set_title('Comparison of RateBeer and BeerAdvocate datasets')\n",
    "ax.set_xticks(x)\n",
    "ax.set_xticklabels(labels)\n",
    "ax.legend()\n",
    "\n",
    "plt.show()"
   ],
   "id": "2f4153a09b7b8b44",
   "outputs": [
    {
     "data": {
      "text/plain": [
       "<Figure size 640x480 with 1 Axes>"
      ],
      "image/png": "[encoded data removed]"
     },
     "metadata": {},
     "output_type": "display_data"
    }
   ],
   "execution_count": 20
  },
  {
   "metadata": {
    "ExecuteTime": {
     "end_time": "2024-11-09T10:41:57.650796Z",
     "start_time": "2024-11-09T10:41:57.645597Z"
    }
   },
   "cell_type": "code",
   "source": [
    "summary_data = {\n",
    "    \"Metric\": [\"users\", \"beers\", \"ratings\", \"reviews\"],\n",
    "    \"RateBeer\": [nb_users_rb, nb_beers_rb, nb_ratings_rb, nb_reviews_rb],\n",
    "    \"BeerAdvocate\": [nb_users_ba, nb_beers_ba, nb_ratings_ba, nb_reviews_ba]\n",
    "}\n",
    "summary_df = pd.DataFrame(summary_data)\n",
    "summary_df.style.set_caption(\"Summary for RateBeer and BeerAdvocate\")"
   ],
   "id": "f49336c79354537e",
   "outputs": [
    {
     "data": {
      "text/plain": [
       "<pandas.io.formats.style.Styler at 0x766b20110>"
      ],
      "text/html": [
       "<style type=\"text/css\">\n",
       "</style>\n",
       "<table id=\"T_defec\">\n",
       "  <caption>Summary for RateBeer and BeerAdvocate</caption>\n",
       "  <thead>\n",
       "    <tr>\n",
       "      <th class=\"blank level0\" >&nbsp;</th>\n",
       "      <th id=\"T_defec_level0_col0\" class=\"col_heading level0 col0\" >Metric</th>\n",
       "      <th id=\"T_defec_level0_col1\" class=\"col_heading level0 col1\" >RateBeer</th>\n",
       "      <th id=\"T_defec_level0_col2\" class=\"col_heading level0 col2\" >BeerAdvocate</th>\n",
       "    </tr>\n",
       "  </thead>\n",
       "  <tbody>\n",
       "    <tr>\n",
       "      <th id=\"T_defec_level0_row0\" class=\"row_heading level0 row0\" >0</th>\n",
       "      <td id=\"T_defec_row0_col0\" class=\"data row0 col0\" >users</td>\n",
       "      <td id=\"T_defec_row0_col1\" class=\"data row0 col1\" >70174</td>\n",
       "      <td id=\"T_defec_row0_col2\" class=\"data row0 col2\" >153704</td>\n",
       "    </tr>\n",
       "    <tr>\n",
       "      <th id=\"T_defec_level0_row1\" class=\"row_heading level0 row1\" >1</th>\n",
       "      <td id=\"T_defec_row1_col0\" class=\"data row1 col0\" >beers</td>\n",
       "      <td id=\"T_defec_row1_col1\" class=\"data row1 col1\" >442081</td>\n",
       "      <td id=\"T_defec_row1_col2\" class=\"data row1 col2\" >280823</td>\n",
       "    </tr>\n",
       "    <tr>\n",
       "      <th id=\"T_defec_level0_row2\" class=\"row_heading level0 row2\" >2</th>\n",
       "      <td id=\"T_defec_row2_col0\" class=\"data row2 col0\" >ratings</td>\n",
       "      <td id=\"T_defec_row2_col1\" class=\"data row2 col1\" >7122074</td>\n",
       "      <td id=\"T_defec_row2_col2\" class=\"data row2 col2\" >8393032</td>\n",
       "    </tr>\n",
       "    <tr>\n",
       "      <th id=\"T_defec_level0_row3\" class=\"row_heading level0 row3\" >3</th>\n",
       "      <td id=\"T_defec_row3_col0\" class=\"data row3 col0\" >reviews</td>\n",
       "      <td id=\"T_defec_row3_col1\" class=\"data row3 col1\" >7122074</td>\n",
       "      <td id=\"T_defec_row3_col2\" class=\"data row3 col2\" >2589586</td>\n",
       "    </tr>\n",
       "  </tbody>\n",
       "</table>\n"
      ]
     },
     "execution_count": 26,
     "metadata": {},
     "output_type": "execute_result"
    }
   ],
   "execution_count": 26
  },
  {
   "metadata": {},
   "cell_type": "markdown",
   "source": "The BeerAdvocate dataset provides us with enough reviews and data to perform and we will focus only on this dataset for the rest of the analysis.",
   "id": "1d84bbec90b76edb"
  },
  {
   "metadata": {},
   "cell_type": "markdown",
   "source": "### Users location analysis",
   "id": "f0939eb091fdb83c"
  },
  {
   "metadata": {
    "ExecuteTime": {
     "end_time": "2024-11-09T10:53:13.468014Z",
     "start_time": "2024-11-09T10:53:13.443981Z"
    }
   },
   "cell_type": "code",
   "source": [
    "missing_countries = users_ba['country'].isna().sum()\n",
    "print(f\"Number of missing 'country' entries: {missing_countries}\")"
   ],
   "id": "1bfe63418d6c4d7",
   "outputs": [
    {
     "name": "stdout",
     "output_type": "stream",
     "text": [
      "Number of missing 'country' entries: 31279\n"
     ]
    }
   ],
   "execution_count": 39
  },
  {
   "metadata": {
    "ExecuteTime": {
     "end_time": "2024-11-09T11:00:57.402332Z",
     "start_time": "2024-11-09T11:00:57.266848Z"
    }
   },
   "cell_type": "code",
   "source": [
    "# Separate the country and the states\n",
    "users_ba['country'] = users_ba['location'].str.split(',').str[0]\n",
    "users_ba['states'] = users_ba['location'].str.split(',').str[1]\n",
    "\n",
    "# Replace missing 'country' values with a label \"Unknown\"\n",
    "users_ba['country'] = users_ba['country'].fillna('Unknown')\n",
    "\n",
    "# Compute the number of users in the top 5 countries\n",
    "top5_countries = users_ba['country'].value_counts().nlargest(5)\n",
    "\n",
    "# Compute the sum of the remaining countries (including 'Unknown' entries if any)\n",
    "other_countries_count = len(users_ba) - top5_countries.sum()\n",
    "\n",
    "# Add the \"Other\" countries count to the series\n",
    "top_countries = pd.concat([top5_countries, pd.Series({'Other': other_countries_count})])\n",
    "\n",
    "# Calculate percentages for each country in top_countries\n",
    "top_countries_percent_ba = (top_countries / len(users_ba) * 100).round(1)"
   ],
   "id": "ea78d331c8ae7039",
   "outputs": [],
   "execution_count": 51
  },
  {
   "metadata": {
    "ExecuteTime": {
     "end_time": "2024-11-09T11:01:00.396210Z",
     "start_time": "2024-11-09T11:01:00.340841Z"
    }
   },
   "cell_type": "code",
   "source": [
    "top_countries.plot(kind='pie', labels=None)\n",
    "\n",
    "# Create legend with country name and percentage\n",
    "top_countries_labels = [f\"{country}: {percent}%\" for country, percent in zip(top_countries.index, top_countries_percent_ba)]\n",
    "plt.legend(labels=top_countries_labels, loc=\"best\", bbox_to_anchor=(1, 0.5))\n",
    "\n",
    "plt.title(f'Distribution of users by country for BeerAdvocate dataset')\n",
    "plt.show()"
   ],
   "id": "2943625e1ef98f39",
   "outputs": [
    {
     "data": {
      "text/plain": [
       "<Figure size 640x480 with 1 Axes>"
      ],
      "image/png": "[encoded data removed]"
     },
     "metadata": {},
     "output_type": "display_data"
    }
   ],
   "execution_count": 52
  },
  {
   "metadata": {},
   "cell_type": "markdown",
   "source": "The majority of the users are from the United States. ",
   "id": "e2f2b75348c27157"
  },
  {
   "metadata": {
    "ExecuteTime": {
     "end_time": "2024-11-09T11:09:40.827328Z",
     "start_time": "2024-11-09T11:09:40.677829Z"
    }
   },
   "cell_type": "code",
   "source": [
    "# Convert the number of ratings values to numeric\n",
    "users_ba['nbr_ratings'] = pd.to_numeric(users_ba['nbr_ratings'], errors='coerce')\n",
    "users_ba['nbr_reviews'] = pd.to_numeric(users_ba['nbr_reviews'], errors='coerce')\n",
    "\n",
    "# Group by country and sum the ratings and the reviews\n",
    "country_ratings = users_ba.groupby('country')['nbr_ratings'].sum().reset_index()\n",
    "country_reviews = users_ba.groupby('country')['nbr_reviews'].sum().reset_index()\n",
    "\n",
    "# Get the top 5 countries by number of ratings and reviews\n",
    "top_countries_ratings = country_ratings.nlargest(5, 'nbr_ratings')\n",
    "top_countries_reviews = country_reviews.nlargest(5, 'nbr_reviews')\n",
    "\n",
    "\n",
    "fig, axes = plt.subplots(1, 2, figsize=(14, 6))\n",
    "\n",
    "axes[0].bar(top_countries_ratings['country'], top_countries_ratings['nbr_ratings'], color='lightgreen')\n",
    "axes[0].set_xlabel('Country')\n",
    "axes[0].set_ylabel('Number of ratings')\n",
    "axes[0].set_title('Top 5 countries by total ratings')\n",
    "axes[0].tick_params(axis='x', rotation=45)\n",
    "\n",
    "axes[1].bar(top_countries_reviews['country'], top_countries_reviews['nbr_reviews'], color='skyblue')\n",
    "axes[1].set_xlabel('Country')\n",
    "axes[1].set_ylabel('Number of reviews')\n",
    "axes[1].set_title('Top 5 countries by total reviews for rateBeer')\n",
    "axes[1].tick_params(axis='x', rotation=45)\n",
    "\n",
    "plt.tight_layout()\n",
    "plt.show()"
   ],
   "id": "9cbf78e95ac5a173",
   "outputs": [
    {
     "data": {
      "text/plain": [
       "<Figure size 1400x600 with 2 Axes>"
      ],
      "image/png": "[encoded data removed]"
     },
     "metadata": {},
     "output_type": "display_data"
    }
   ],
   "execution_count": 59
  },
  {
   "metadata": {},
   "cell_type": "markdown",
   "source": "And most of the ratings and reviews are made by american users. Therefore, we chosed to focus only on American users as this still provide us enough data",
   "id": "aaf03938b9d85879"
  },
  {
   "metadata": {
    "ExecuteTime": {
     "end_time": "2024-11-09T11:11:45.691714Z",
     "start_time": "2024-11-09T11:11:45.603011Z"
    }
   },
   "cell_type": "code",
   "source": [
    "# We only keep users from the US\n",
    "users = users_ba[users_ba['country'] == 'United States']\n",
    "print(\"There are\", len(users), \"users from the United States in the BeerAdvocate dataset\")\n",
    "\n",
    "# We prompt the number of ratings made by US users using the nb_ratings column of the users dataset and summing them for users where location is contains United States \n",
    "print(\"Number of ratings made by US users: \", users[users['country'].str.contains('United States')]['nbr_ratings'].sum())\n",
    "\n",
    "# We prompt the number of reviews made by US users using the nb_reviews column of the users dataset and summing them for users where location is contains United States\n",
    "print(\"Number of reviews made by US users: \", users[users['country'].str.contains('United States')]['nbr_reviews'].sum())"
   ],
   "id": "d468a57ca46479eb",
   "outputs": [
    {
     "name": "stdout",
     "output_type": "stream",
     "text": [
      "There are 113223 users from the United States in the BeerAdvocate dataset\n",
      "Number of ratings made by US users:  7303870\n",
      "Number of reviews made by US users:  2241334\n"
     ]
    }
   ],
   "execution_count": 61
  }
 ],
 "metadata": {
  "kernelspec": {
   "display_name": "Python 3",
   "language": "python",
   "name": "python3"
  },
  "language_info": {
   "codemirror_mode": {
    "name": "ipython",
    "version": 2
   },
   "file_extension": ".py",
   "mimetype": "text/x-python",
   "name": "python",
   "nbconvert_exporter": "python",
   "pygments_lexer": "ipython2",
   "version": "2.7.6"
  }
 },
 "nbformat": 4,
 "nbformat_minor": 5
}
