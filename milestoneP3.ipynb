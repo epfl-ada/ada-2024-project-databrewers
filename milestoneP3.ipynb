{
 "cells": [
  {
   "cell_type": "markdown",
   "id": "d118fe9bc4888e48",
   "metadata": {},
   "source": [
    "# ADA Project - DataBrewers\n",
    "\n",
    "The aim of this project is to analyze beer preference shifts across seasons and events, with a focus on understanding consumer trends in taste, aroma, palate, and appearance. By examining variation in ratings for beer style and alcohol content among US users, and comparing different states with varying weather conditions, we seek to identify seasonal trends. To deepen our understanding, we will conduct sentiment analysis to capture the tone of reviews and references to seasons, weather, or events, and correlate these insights with ratings. Our findings will provide actionable insights for professionals (brewers, marketers, etc.) by highlighting customer preferences throughout the year. Understanding these seasonal trends enables brewers to adjust product offerings to align more closely with consumer demand. As a conclusion of to our research, we could suggest the best beer that would be the perfect match for each season/festivity, in the form of a time fresco. "
   ]
  },
  {
   "cell_type": "markdown",
   "id": "e3a9526c840c3b4a",
   "metadata": {},
   "source": [
    "## Data pre-processing \n"
   ]
  },
  {
   "cell_type": "code",
   "execution_count": 4,
   "id": "initial_id",
   "metadata": {
    "ExecuteTime": {
     "end_time": "2024-12-16T11:17:10.238751Z",
     "start_time": "2024-12-16T11:17:09.858779Z"
    },
    "collapsed": true
   },
   "outputs": [],
   "source": [
    "import pandas as pd\n",
    "import tarfile\n",
    "import matplotlib.pyplot as plt\n",
    "import matplotlib as mpl\n",
    "import numpy as np\n",
    "import seaborn as sns\n",
    "import scipy.stats as stats\n",
    "from statsmodels.stats.multicomp import pairwise_tukeyhsd\n",
    "import re\n",
    "import wordcloud\n",
    "import nltk\n",
    "import sys\n",
    "from collections import Counter\n",
    "from wordcloud import WordCloud\n",
    "from nltk.corpus import stopwords\n",
    "from nltk.tokenize import word_tokenize\n",
    "from vaderSentiment.vaderSentiment import SentimentIntensityAnalyzer\n",
    "from tqdm import tqdm\n",
    "from concurrent.futures import ThreadPoolExecutor"
   ]
  },
  {
   "cell_type": "markdown",
   "id": "a1513a35646b8b5b",
   "metadata": {},
   "source": [
    "The exploratory analysis is detailed in the notebook `data_cleaning.ipynb`. We decided to choose only the BeerAdvocate dataset, as it contains a sufficient number of user ratings and reviews. By analyzing the country of origin from the users, we discovered that most of the ratings were provided by users from the United States. Therefore, we restricted the dataset to include only American reviews.\n",
    " \n",
    " The complete processing and cleaning workflow is implemented in `src/scripts/preprocessing.py`. In this script, we begin by loading the raw data files for beers, reviews, users, breweries, and ratings. User location is split into country and state, and non-US users are filtered out. We then assign a US region (e.g. Northeast, Midwest) to each entry based on the user's state. Beer styles are simplified by removing country prefixes like \"Belgian\" or \"American\" and reclassified into broader categories using a style map. The script also categorizes beer based on their Alcohol By Volume (ABV) values, dividing them into three categories (low, medium, and high) using a quantile-based thresholds. We assign a season to each reviews based on the month it was published (e.g. Spring, Summer, Fall, Winter). The dataset is filtered to only include years with at least 70,000 reviews. Missing values in the rating column are handled by removing rows where ratings are missing. Finally, the cleaned versions of the datasets are saved as compressed `csv`files in the `data/cleaned/`directory. "
   ]
  },
  {
   "cell_type": "code",
   "execution_count": null,
   "id": "b1be769cb2797191",
   "metadata": {},
   "outputs": [],
   "source": [
    "# Run the preprocessing script\n",
    "# %run src/scripts/preprocessing.py"
   ]
  },
  {
   "cell_type": "markdown",
   "id": "56a1a55ffb43fefd",
   "metadata": {},
   "source": [
    "#### Loading the data"
   ]
  },
  {
   "cell_type": "code",
   "execution_count": 2,
   "id": "e041dd0cd8f40e5b",
   "metadata": {
    "ExecuteTime": {
     "end_time": "2024-12-16T11:47:31.182234Z",
     "start_time": "2024-12-16T11:46:47.370046Z"
    }
   },
   "outputs": [],
   "source": [
    "reviews = pd.read_csv('data/cleaned/reviews.csv.gz', compression='gzip')\n",
    "ratings = pd.read_csv('data/cleaned/ratings.csv.gz', compression='gzip')\n",
    "users = pd.read_csv('data/cleaned/users.csv.gz', compression='gzip')\n",
    "beers_ba = pd.read_csv('data/cleaned/beers.csv.gz', compression='gzip')\n",
    "breweries_ba = pd.read_csv('data/cleaned/breweries.csv.gz', compression='gzip')"
   ]
  },
  {
   "cell_type": "markdown",
   "id": "b93c1543",
   "metadata": {},
   "source": [
    "## Sentiment analysis\n",
    "\n",
    "In this section we look at the words used in the review to try to determine the ones that are associated to positive reviews and the ones associated to negative ones.\n",
    "\n",
    "- We define that a beer is positively graded if the rating grade strictly bigger than 4/5.\n",
    "- We define that a beer is negatively graded if the rating grade strictly less than 3/5.\n",
    "\n",
    "This will allow use to determine the aspects of a beer that are liked or disliked by reviewers. This way we will be able to understand better the consumer preferences"
   ]
  },
  {
   "cell_type": "code",
   "execution_count": null,
   "id": "0b15ae3b",
   "metadata": {},
   "outputs": [],
   "source": [
    "# We import the semansentimenttic analysis script\n",
    "import src.scripts.sentiment_analysis as sent_ana\n",
    "\n",
    "# We download the stopwords to use them in the sentiment analysis\n",
    "nltk.download('stopwords')"
   ]
  },
  {
   "cell_type": "code",
   "execution_count": null,
   "id": "e1579ff8",
   "metadata": {},
   "outputs": [],
   "source": [
    "# We begin by cleaning the reviews \n",
    "reviews_clean = sent_ana.clean_data(reviews)\n",
    "\n",
    "# Separate the reviews into two groups: those with a rating higher than 4 and those with a rating lower than 3\n",
    "reviews_high = reviews_clean[reviews_clean['rating'] > 4]\n",
    "reviews_low = reviews_clean[reviews_clean['rating'] < 3]\n",
    "\n",
    "# Tokenize the reviews\n",
    "bigrams_high, bigrams_low = sent_ana.get_words(reviews_high, reviews_low)\n",
    "\n",
    "# Count bigram frequencies for each group\n",
    "bigram_freq_high = Counter(bigrams_high)\n",
    "bigram_freq_low = Counter(bigrams_low)"
   ]
  },
  {
   "cell_type": "markdown",
   "id": "02e98256",
   "metadata": {},
   "source": [
    "To make it easier to visualise, we use Word Clouds, this way we can easily see the pair of words that are the most used, both for high and low ratings."
   ]
  },
  {
   "cell_type": "code",
   "execution_count": null,
   "id": "730006bb",
   "metadata": {},
   "outputs": [],
   "source": [
    "# Generate the word clouds\n",
    "wordcloud_high = WordCloud(width=800, height=400, background_color='white').generate_from_frequencies(bigram_freq_high)\n",
    "wordcloud_low = WordCloud(width=800, height=400, background_color='white').generate_from_frequencies(bigram_freq_low)\n",
    "\n",
    "# We plot word clouds for both groups\n",
    "sent_ana.plot_and_save_word_clouds(wordcloud_high, wordcloud_low)"
   ]
  },
  {
   "cell_type": "markdown",
   "id": "8974eff8",
   "metadata": {},
   "source": [
    "Now that we know the pair of words that are the most used in reviews with high ratings (>4/5) and low ratings (<3/5), we can see that some pair of words seem specific to well rated beers, and some seem specific to poorly rated beers.\n",
    "\n",
    "We further investigate this to extract pair of words used only positively and pair of words used only negatively. This will allow us to determine the user preferences and potentially what makes a beer enjoyable or not."
   ]
  },
  {
   "cell_type": "code",
   "execution_count": null,
   "id": "d199399a",
   "metadata": {},
   "outputs": [],
   "source": [
    "# We compare the most common bigrams in both groups and\n",
    "df_comparison = sent_ana.compare_high_low(bigram_freq_high, bigram_freq_low, reviews_high, reviews_low)\n",
    "\n",
    "# We plot the comparison\n",
    "print(df_comparison)"
   ]
  },
  {
   "cell_type": "markdown",
   "id": "58ff94ba",
   "metadata": {},
   "source": [
    "We can easily see that some pair of words can be associated to both positive and negative reviews, but there are also words that are used only for one of the two.\n",
    "\n",
    "We have that the following pair of words only appear in positive reviews:\n",
    "- dark chocolate\n",
    "- well balanced\n",
    "- dark fruits\n",
    "- brown sugar\n",
    "- full bodied\n",
    "- medium bodied\n",
    "\n",
    "While the followinfg pair of words only appear in negative reviews: \n",
    "- finger color\n",
    "- yellow color\n",
    "- light bodied\n",
    "- pale yellow"
   ]
  },
  {
   "cell_type": "markdown",
   "id": "b771e187",
   "metadata": {},
   "source": [
    "## Semantic analysis"
   ]
  },
  {
   "cell_type": "code",
   "execution_count": 1,
   "id": "49941c43a94e8db5",
   "metadata": {},
   "outputs": [],
   "source": [
    "import src.scripts.semantic_analysis as sem_ana"
   ]
  },
  {
   "cell_type": "code",
   "execution_count": null,
   "id": "9be1c937",
   "metadata": {},
   "outputs": [],
   "source": [
    "clean_reviews = sem_ana.get_cleaned_reviews(reviews)"
   ]
  },
  {
   "cell_type": "code",
   "execution_count": null,
   "id": "f2f1c10b",
   "metadata": {},
   "outputs": [],
   "source": [
    "top_20_words,word_freq = sem_ana.get_top_words(clean_reviews, 20)"
   ]
  },
  {
   "cell_type": "code",
   "execution_count": null,
   "id": "bcfacf8a",
   "metadata": {},
   "outputs": [],
   "source": [
    "sem_ana.gen_wordcloud(word_freq)"
   ]
  },
  {
   "cell_type": "code",
   "execution_count": null,
   "id": "ce6f323c",
   "metadata": {},
   "outputs": [],
   "source": [
    "sem_ana.sentiment_analysis(word_freq)"
   ]
  },
  {
   "cell_type": "code",
   "execution_count": null,
   "id": "93242750",
   "metadata": {},
   "outputs": [],
   "source": [
    "sem_ana.analyse_flavours(clean_reviews)"
   ]
  }
 ],
 "metadata": {
  "kernelspec": {
   "display_name": "Python 3",
   "language": "python",
   "name": "python3"
  },
  "language_info": {
   "codemirror_mode": {
    "name": "ipython",
    "version": 3
   },
   "file_extension": ".py",
   "mimetype": "text/x-python",
   "name": "python",
   "nbconvert_exporter": "python",
   "pygments_lexer": "ipython3",
   "version": "undefined.undefined.undefined"
  }
 },
 "nbformat": 4,
 "nbformat_minor": 5
}
