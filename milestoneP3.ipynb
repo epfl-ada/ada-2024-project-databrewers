{
 "cells": [
  {
   "cell_type": "markdown",
   "id": "d118fe9bc4888e48",
   "metadata": {},
   "source": [
    "# ADA Project - DataBrewers\n",
    "\n",
    "The aim of this project is to analyze beer preference shifts across seasons and events, with a focus on understanding consumer trends in taste, aroma, palate, and appearance. By examining variation in ratings for beer style and alcohol content among US users, and comparing different states with varying weather conditions, we seek to identify seasonal trends. To deepen our understanding, we will conduct sentiment analysis to capture the tone of reviews and references to seasons, weather, or events, and correlate these insights with ratings. Our findings will provide actionable insights for professionals (brewers, marketers, etc.) by highlighting customer preferences throughout the year. Understanding these seasonal trends enables brewers to adjust product offerings to align more closely with consumer demand. As a conclusion of to our research, we could suggest the best beer that would be the perfect match for each season/festivity, in the form of a time fresco. "
   ]
  },
  {
   "cell_type": "markdown",
   "id": "e3a9526c840c3b4a",
   "metadata": {},
   "source": [
    "## Data pre-processing \n"
   ]
  },
  {
   "cell_type": "code",
   "execution_count": 1,
   "id": "initial_id",
   "metadata": {
    "ExecuteTime": {
     "end_time": "2024-12-16T11:17:10.238751Z",
     "start_time": "2024-12-16T11:17:09.858779Z"
    },
    "collapsed": true
   },
   "outputs": [],
   "source": [
    "import pandas as pd\n",
    "import tarfile\n",
    "import matplotlib.pyplot as plt\n",
    "import matplotlib as mpl\n",
    "import numpy as np\n",
    "import seaborn as sns\n",
    "import scipy.stats as stats\n",
    "from statsmodels.stats.multicomp import pairwise_tukeyhsd\n",
    "import re\n",
    "import wordcloud\n",
    "import nltk\n",
    "import sys\n",
    "from collections import Counter\n",
    "from wordcloud import WordCloud\n",
    "from nltk.corpus import stopwords\n",
    "from nltk.tokenize import word_tokenize\n",
    "from vaderSentiment.vaderSentiment import SentimentIntensityAnalyzer\n",
    "from tqdm import tqdm\n",
    "from concurrent.futures import ThreadPoolExecutor"
   ]
  },
  {
   "cell_type": "markdown",
   "id": "a1513a35646b8b5b",
   "metadata": {},
   "source": [
    "The exploratory analysis is detailed in the notebook `data_cleaning.ipynb`. We decided to choose only the BeerAdvocate dataset, as it contains a sufficient number of user ratings and reviews. By analyzing the country of origin from the users, we discovered that most of the ratings were provided by users from the United States. Therefore, we restricted the dataset to include only American reviews.\n",
    " \n",
    " The complete processing and cleaning workflow is implemented in `src/scripts/preprocessing.py`. In this script, we begin by loading the raw data files for beers, reviews, users, breweries, and ratings. User location is split into country and state, and non-US users are filtered out. We then assign a US region (e.g. Northeast, Midwest) to each entry based on the user's state. Beer styles are simplified by removing country prefixes like \"Belgian\" or \"American\" and reclassified into broader categories using a style map. The script also categorizes beer based on their Alcohol By Volume (ABV) values, dividing them into three categories (low, medium, and high) using a quantile-based thresholds. We assign a season to each reviews based on the month it was published (e.g. Spring, Summer, Fall, Winter). The dataset is filtered to only include years with at least 70,000 reviews. Missing values in the rating column are handled by removing rows where ratings are missing. Finally, the cleaned versions of the datasets are saved as compressed `csv`files in the `data/cleaned/`directory. "
   ]
  },
  {
   "cell_type": "code",
   "execution_count": null,
   "id": "b1be769cb2797191",
   "metadata": {},
   "outputs": [],
   "source": [
    "# Run the preprocessing script\n",
    "# %run src/scripts/preprocessing.py"
   ]
  },
  {
   "cell_type": "markdown",
   "id": "56a1a55ffb43fefd",
   "metadata": {},
   "source": [
    "#### Loading the data"
   ]
  },
  {
   "cell_type": "code",
   "execution_count": 2,
   "id": "e041dd0cd8f40e5b",
   "metadata": {
    "ExecuteTime": {
     "end_time": "2024-12-16T11:47:31.182234Z",
     "start_time": "2024-12-16T11:46:47.370046Z"
    }
   },
   "outputs": [],
   "source": [
    "reviews = pd.read_csv('data/cleaned/reviews.csv.gz', compression='gzip')\n",
    "ratings = pd.read_csv('data/cleaned/ratings.csv.gz', compression='gzip')\n",
    "users = pd.read_csv('data/cleaned/users.csv.gz', compression='gzip')\n",
    "beers_ba = pd.read_csv('data/cleaned/beers.csv.gz', compression='gzip')\n",
    "breweries_ba = pd.read_csv('data/cleaned/breweries.csv.gz', compression='gzip')"
   ]
  },
  {
   "cell_type": "markdown",
   "id": "b771e187",
   "metadata": {},
   "source": [
    "## Sentiment analysis"
   ]
  },
  {
   "cell_type": "code",
   "execution_count": 1,
   "id": "49941c43a94e8db5",
   "metadata": {},
   "outputs": [],
   "source": [
    "import src.scripts.sentiment_analysis as sa"
   ]
  },
  {
   "cell_type": "code",
   "execution_count": null,
   "id": "9be1c937",
   "metadata": {},
   "outputs": [],
   "source": [
    "clean_reviews = sa.clean_text(reviews)"
   ]
  },
  {
   "cell_type": "code",
   "execution_count": null,
   "id": "f2f1c10b",
   "metadata": {},
   "outputs": [],
   "source": [
    "top_20_words,word_freq = sa.get_top_words(clean_reviews, 20)"
   ]
  },
  {
   "cell_type": "code",
   "execution_count": null,
   "id": "bcfacf8a",
   "metadata": {},
   "outputs": [],
   "source": [
    "sa.gen_wordcloud(word_freq)"
   ]
  },
  {
   "cell_type": "code",
   "execution_count": null,
   "id": "40051561",
   "metadata": {},
   "outputs": [],
   "source": [
    "sa.gen_wordcloud(word_freq) "
   ]
  },
  {
   "cell_type": "code",
   "execution_count": null,
   "id": "ce6f323c",
   "metadata": {},
   "outputs": [],
   "source": [
    "sa.sentiment_analysis(word_freq)"
   ]
  },
  {
   "cell_type": "code",
   "execution_count": null,
   "id": "93242750",
   "metadata": {},
   "outputs": [],
   "source": [
    "sa.analyse_flavours(clean_reviews)"
   ]
  }
 ],
 "metadata": {
  "kernelspec": {
   "display_name": "Python 3",
   "language": "python",
   "name": "python3"
  },
  "language_info": {
   "codemirror_mode": {
    "name": "ipython",
    "version": 3
   },
   "file_extension": ".py",
   "mimetype": "text/x-python",
   "name": "python",
   "nbconvert_exporter": "python",
   "pygments_lexer": "ipython3",
   "version": "3.12.2"
  }
 },
 "nbformat": 4,
 "nbformat_minor": 5
}
